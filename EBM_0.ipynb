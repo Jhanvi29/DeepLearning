{
  "nbformat": 4,
  "nbformat_minor": 0,
  "metadata": {
    "colab": {
      "provenance": []
    },
    "kernelspec": {
      "name": "python3",
      "display_name": "Python 3"
    },
    "language_info": {
      "name": "python"
    },
    "accelerator": "GPU",
    "gpuClass": "standard"
  },
  "cells": [
    {
      "cell_type": "code",
      "execution_count": 15,
      "metadata": {
        "id": "11B-J9BR3e_U"
      },
      "outputs": [],
      "source": [
        "import torch as t\n",
        "import torchvision.transforms as tr\n",
        "import torchvision.datasets as datasets\n",
        "\n",
        "import matplotlib.pyplot as plt\n",
        "import json\n",
        "import os"
      ]
    },
    {
      "cell_type": "code",
      "source": [
        "if t.cuda.is_available():\n",
        "    device = \"cuda:0\"\n",
        "else:\n",
        "    device = \"cpu\"\n",
        "\n",
        "device = t.device(device)\n",
        "device"
      ],
      "metadata": {
        "colab": {
          "base_uri": "https://localhost:8080/"
        },
        "id": "GlzZfPjgQfwk",
        "outputId": "9c599454-7b6a-4d2b-96f2-46093434bf0d"
      },
      "execution_count": 73,
      "outputs": [
        {
          "output_type": "execute_result",
          "data": {
            "text/plain": [
              "device(type='cuda', index=0)"
            ]
          },
          "metadata": {},
          "execution_count": 73
        }
      ]
    },
    {
      "cell_type": "code",
      "source": [
        "import torch as t\n",
        "import torch.nn as nn\n",
        "import torch.nn.functional as F\n",
        "\n",
        "class VanillaNet(nn.Module):\n",
        "    def __init__(self, n_c=1, n_f=32, leak=0.05):\n",
        "        super(VanillaNet, self).__init__()\n",
        "        self.f = nn.Sequential(\n",
        "            nn.Conv2d(n_c, n_f, 3, 1, 1),\n",
        "            nn.LeakyReLU(leak),\n",
        "            nn.Conv2d(n_f, n_f * 2, 4, 2, 1),\n",
        "            nn.LeakyReLU(leak),\n",
        "            nn.Conv2d(n_f*2, n_f*4, 4, 2, 1),\n",
        "            nn.LeakyReLU(leak),\n",
        "            nn.Conv2d(n_f*4, n_f*8, 4, 2, 1),\n",
        "            nn.LeakyReLU(leak),\n",
        "            nn.Conv2d(n_f*8, 1, 4, 1, 0))\n",
        "\n",
        "    def forward(self, x):\n",
        "        return self.f(x).squeeze()"
      ],
      "metadata": {
        "id": "njd7woqa4JCF"
      },
      "execution_count": 74,
      "outputs": []
    },
    {
      "cell_type": "code",
      "source": [
        "net_bank = VanillaNet()\n",
        "net_bank.to(device)"
      ],
      "metadata": {
        "colab": {
          "base_uri": "https://localhost:8080/"
        },
        "id": "ng8HW1Pj4ODt",
        "outputId": "5f52f864-3b4d-4682-f1c2-234244704477"
      },
      "execution_count": 75,
      "outputs": [
        {
          "output_type": "execute_result",
          "data": {
            "text/plain": [
              "VanillaNet(\n",
              "  (f): Sequential(\n",
              "    (0): Conv2d(1, 32, kernel_size=(3, 3), stride=(1, 1), padding=(1, 1))\n",
              "    (1): LeakyReLU(negative_slope=0.05)\n",
              "    (2): Conv2d(32, 64, kernel_size=(4, 4), stride=(2, 2), padding=(1, 1))\n",
              "    (3): LeakyReLU(negative_slope=0.05)\n",
              "    (4): Conv2d(64, 128, kernel_size=(4, 4), stride=(2, 2), padding=(1, 1))\n",
              "    (5): LeakyReLU(negative_slope=0.05)\n",
              "    (6): Conv2d(128, 256, kernel_size=(4, 4), stride=(2, 2), padding=(1, 1))\n",
              "    (7): LeakyReLU(negative_slope=0.05)\n",
              "    (8): Conv2d(256, 1, kernel_size=(4, 4), stride=(1, 1))\n",
              "  )\n",
              ")"
            ]
          },
          "metadata": {},
          "execution_count": 75
        }
      ]
    },
    {
      "cell_type": "code",
      "source": [
        "import torch.optim as optim\n",
        "lr = 1e-3\n",
        "opt = optim.Adam(net_bank.parameters(), lr)"
      ],
      "metadata": {
        "id": "8vx2AHenJ-d7"
      },
      "execution_count": 76,
      "outputs": []
    },
    {
      "cell_type": "code",
      "source": [
        "transform = tr.Compose([tr.Resize(32),\n",
        "                        tr.CenterCrop(32),\n",
        "                        tr.ToTensor(),\n",
        "                        tr.Normalize(tuple(0.5*t.ones(1)), tuple(0.5*t.ones(1)))])\n",
        "trainset = datasets.MNIST(root='./data', train=True, download=True, transform=transform)"
      ],
      "metadata": {
        "id": "sAaMMl0PKYV2"
      },
      "execution_count": 77,
      "outputs": []
    },
    {
      "cell_type": "code",
      "source": [
        "for x in trainset:\n",
        "  q = t.stack([x[0]]).to(device)"
      ],
      "metadata": {
        "id": "uOS8GuOOK_C4"
      },
      "execution_count": 78,
      "outputs": []
    },
    {
      "cell_type": "code",
      "source": [
        "# sample batch from given array of images\n",
        "def sample_image_set(image_set):\n",
        "    rand_inds = t.randperm(image_set.shape[0])[0:100]\n",
        "    return image_set[rand_inds], rand_inds\n",
        "\n",
        "# sample positive images from dataset distribution q (add noise to ensure min sd is at least langevin noise sd)\n",
        "def sample_q():\n",
        "    x_q = sample_image_set(q)[0]\n",
        "    return x_q + 1.5e-2 * t.randn_like(x_q)\n",
        "\n",
        "def sample_s_t(L,update_s_t_0=True):\n",
        "    # get initial mcmc states for langevin updates (\"persistent\", \"data\", \"uniform\", or \"gaussian\")\n",
        "    x_s_t_0, s_t_0_inds = sample_q() , None\n",
        "    x_s_t = t.autograd.Variable(x_s_t_0.clone(), requires_grad=True)\n",
        "    r_s_t = t.zeros(1).to(device)  # variable r_s_t (Section 3.2) to record average gradient magnitude\n",
        "    for ell in range(L):\n",
        "        f_prime = t.autograd.grad(net_bank(x_s_t).sum(), [x_s_t])[0]\n",
        "        x_s_t.data += - f_prime + 7.5e-3 * t.randn_like(x_s_t)\n",
        "        r_s_t += f_prime.view(f_prime.shape[0], -1).norm(dim=1).mean()\n",
        "    return x_s_t.detach(), r_s_t.squeeze() / L"
      ],
      "metadata": {
        "id": "k0gij5DsMjA5"
      },
      "execution_count": 79,
      "outputs": []
    },
    {
      "cell_type": "code",
      "source": [],
      "metadata": {
        "colab": {
          "base_uri": "https://localhost:8080/"
        },
        "id": "bGz4tEL4PSwj",
        "outputId": "dc90bd36-9b5c-4db2-b319-98911991e3c3"
      },
      "execution_count": 69,
      "outputs": [
        {
          "output_type": "execute_result",
          "data": {
            "text/plain": [
              "device(type='cuda', index=0)"
            ]
          },
          "metadata": {},
          "execution_count": 69
        }
      ]
    },
    {
      "cell_type": "code",
      "source": [
        "d_s_t_record = t.zeros(10000).to(device)  # energy difference between positive and negative samples\n",
        "r_s_t_record = t.zeros(10000).to(device)"
      ],
      "metadata": {
        "id": "0QgI6nCrP8Du"
      },
      "execution_count": 80,
      "outputs": []
    },
    {
      "cell_type": "code",
      "source": [
        "for i in range(10):\n",
        "    # obtain positive and negative samples\n",
        "    x_q = sample_q()\n",
        "    x_s_t, r_s_t = sample_s_t(L=500)\n",
        "    img_np = x_s_t.detach().cpu().numpy()\n",
        "    plt.imshow(img_np.reshape(32,32) , cmap='gray')\n",
        "    plt.show()\n",
        "\n",
        "    # calculate ML computational loss d_s_t (Section 3) for data and shortrun samples\n",
        "    d_s_t = net_bank(x_q).mean() - net_bank(x_s_t).mean()\n",
        "\n",
        "    print(d_s_t)\n",
        "    if 7.5e-3 > 0:\n",
        "        # scale loss with the langevin implementation\n",
        "        d_s_t *= 2 / (7.5e-3 ** 2)\n",
        "    # stochastic gradient ML update for model weights\n",
        "    opt.zero_grad()\n",
        "    d_s_t.backward()\n",
        "    opt.step()\n",
        "\n",
        "    # record diagnostics\n",
        "    d_s_t_record[i] = d_s_t.detach().data\n",
        "    r_s_t_record[i] = r_s_t\n"
      ],
      "metadata": {
        "colab": {
          "base_uri": "https://localhost:8080/",
          "height": 1000
        },
        "id": "y2XeyamwOWBm",
        "outputId": "0e52ef66-7df0-4a24-ca34-8d3e795abd75"
      },
      "execution_count": 93,
      "outputs": [
        {
          "output_type": "display_data",
          "data": {
            "text/plain": [
              "<Figure size 432x288 with 1 Axes>"
            ],
            "image/png": "[encoded data removed]"
          },
          "metadata": {
            "needs_background": "light"
          }
        },
        {
          "output_type": "stream",
          "name": "stdout",
          "text": [
            "tensor(0.0037, device='cuda:0', grad_fn=<SubBackward0>)\n"
          ]
        },
        {
          "output_type": "display_data",
          "data": {
            "text/plain": [
              "<Figure size 432x288 with 1 Axes>"
            ],
            "image/png": "[encoded data removed]"
          },
          "metadata": {
            "needs_background": "light"
          }
        },
        {
          "output_type": "stream",
          "name": "stdout",
          "text": [
            "tensor(0.0027, device='cuda:0', grad_fn=<SubBackward0>)\n"
          ]
        },
        {
          "output_type": "display_data",
          "data": {
            "text/plain": [
              "<Figure size 432x288 with 1 Axes>"
            ],
            "image/png": "[encoded data removed]"
          },
          "metadata": {
            "needs_background": "light"
          }
        },
        {
          "output_type": "stream",
          "name": "stdout",
          "text": [
            "tensor(0.0001, device='cuda:0', grad_fn=<SubBackward0>)\n"
          ]
        },
        {
          "output_type": "display_data",
          "data": {
            "text/plain": [
              "<Figure size 432x288 with 1 Axes>"
            ],
            "image/png": "[encoded data removed]"
          },
          "metadata": {
            "needs_background": "light"
          }
        },
        {
          "output_type": "stream",
          "name": "stdout",
          "text": [
            "tensor(0.0023, device='cuda:0', grad_fn=<SubBackward0>)\n"
          ]
        },
        {
          "output_type": "display_data",
          "data": {
            "text/plain": [
              "<Figure size 432x288 with 1 Axes>"
            ],
            "image/png": "[encoded data removed]"
          },
          "metadata": {
            "needs_background": "light"
          }
        },
        {
          "output_type": "stream",
          "name": "stdout",
          "text": [
            "tensor(0.0018, device='cuda:0', grad_fn=<SubBackward0>)\n"
          ]
        }
      ]
    }
  ]
}