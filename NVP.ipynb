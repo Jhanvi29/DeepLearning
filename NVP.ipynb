{
  "nbformat": 4,
  "nbformat_minor": 0,
  "metadata": {
    "colab": {
      "provenance": []
    },
    "kernelspec": {
      "name": "python3",
      "display_name": "Python 3"
    },
    "language_info": {
      "name": "python"
    },
    "accelerator": "GPU",
    "gpuClass": "standard"
  },
  "cells": [
    {
      "cell_type": "code",
      "execution_count": null,
      "metadata": {
        "id": "jRxP64WoHeni"
      },
      "outputs": [],
      "source": [
        "import os\n",
        "import torch\n",
        "import numpy as np\n",
        "\n",
        "from torch import nn\n",
        "from torch.utils.data import DataLoader, Dataset\n",
        "from torchvision import datasets, transforms\n",
        "from torchvision.transforms import ToTensor, Lambda\n",
        "import matplotlib.pyplot as plt"
      ]
    },
    {
      "cell_type": "code",
      "source": [
        "available = torch.cuda.is_available()\n",
        "curr_device = torch.cuda.current_device()\n",
        "device = torch.device(\"cuda:0\" if available else \"cpu\")\n",
        "device_count = torch.cuda.device_count() \n",
        "device_name =  torch.cuda.get_device_name(0)\n"
      ],
      "metadata": {
        "id": "YxEn4gZTHkeZ"
      },
      "execution_count": null,
      "outputs": []
    },
    {
      "cell_type": "code",
      "source": [
        "class RealNVP(nn.Module):\n",
        "    def __init__(self, nets, nett, mask):\n",
        "        super(RealNVP, self).__init__()\n",
        "        \n",
        "        self.mask = nn.Parameter(mask, requires_grad=False)\n",
        "        self.t = torch.nn.ModuleList([nett() for _ in range(len(masks))])\n",
        "        self.s = torch.nn.ModuleList([nets() for _ in range(len(masks))])\n",
        "        \n",
        "    def g(self, z):\n",
        "        x = z\n",
        "        for i in range(len(self.t)):\n",
        "            x_ = x*self.mask[i]\n",
        "            s = self.s[i](x_)*(1 - self.mask[i])\n",
        "            t = self.t[i](x_)*(1 - self.mask[i])\n",
        "            x = x_ + (1 - self.mask[i]) * (x * torch.exp(s) + t)\n",
        "        return x\n",
        "\n",
        "    def f(self, x):\n",
        "        log_det_J, z = x.new_zeros(x.shape[0]), x\n",
        "        for i in reversed(range(len(self.t))):\n",
        "            z_ = self.mask[i] * z\n",
        "            s = self.s[i](z_) * (1-self.mask[i])\n",
        "            t = self.t[i](z_) * (1-self.mask[i])\n",
        "            z = (1 - self.mask[i]) * (z - t) * torch.exp(-s) + z_\n",
        "            log_det_J -= s.sum(dim=1)\n",
        "        return z, log_det_J"
      ],
      "metadata": {
        "id": "99nqyqIxHqoY"
      },
      "execution_count": 44,
      "outputs": []
    },
    {
      "cell_type": "code",
      "source": [
        "nets = lambda: nn.Sequential(nn.Linear(10, 256), nn.LeakyReLU(), nn.Linear(256, 256), nn.LeakyReLU(), nn.Linear(256, 10), nn.Tanh())\n",
        "nett = lambda: nn.Sequential(nn.Linear(10, 256), nn.LeakyReLU(), nn.Linear(256, 256), nn.LeakyReLU(), nn.Linear(256, 10))\n",
        "masks = torch.from_numpy(np.array([[0], [1]] * 3).astype(np.float32))\n",
        "\n",
        "flow = RealNVP(nets, nett, masks)"
      ],
      "metadata": {
        "id": "XUdvD0kfULOv"
      },
      "execution_count": 97,
      "outputs": []
    },
    {
      "cell_type": "code",
      "source": [
        "learning_rate = 0.001\n",
        "batch_size = 1000\n",
        "epochs = 10\n",
        "\n",
        "flow = flow.to(device)\n",
        "opt = torch.optim.Adam(flow.parameters(), lr=learning_rate)"
      ],
      "metadata": {
        "id": "63N3tShqIOSr"
      },
      "execution_count": 98,
      "outputs": []
    },
    {
      "cell_type": "code",
      "source": [
        "class Dataset2D(Dataset):\n",
        "    def __init__(self, data):\n",
        "        mean = np.zeros(10)\n",
        "        cov =  np.eye(10)\n",
        "        self.size = len(data)\n",
        "        self.origX = data \n",
        "        self.X = torch.tensor(self.origX).float()\n",
        "\n",
        "    def __len__(self):\n",
        "        return self.size\n",
        "\n",
        "    def __getitem__(self, idx):\n",
        "        return self.X[idx, :]"
      ],
      "metadata": {
        "id": "VwyLDtf1I12L"
      },
      "execution_count": 48,
      "outputs": []
    },
    {
      "cell_type": "code",
      "source": [
        "mean = np.zeros(10)\n",
        "cov = np.eye(10)\n",
        "training_data = Dataset2D(np.random.multivariate_normal(mean, cov, 10))\n",
        "train_dataloader = DataLoader(training_data, batch_size=batch_size, shuffle=True)"
      ],
      "metadata": {
        "id": "qB9qgMz7I57p"
      },
      "execution_count": 99,
      "outputs": []
    },
    {
      "cell_type": "code",
      "source": [
        "def my_logpdf(f, u, covar):\n",
        "  for x in f:\n",
        "    #print(\"in \")\n",
        "    #print(x)\n",
        "    k = 10\n",
        "    y = x-u\n",
        "    #print(y.shape)\n",
        "    a = y.reshape(-1,1)\n",
        "    #print(a.shape)\n",
        "    b = t.linalg.inv(covar)\n",
        "    #print(b.shape)\n",
        "    d = t.matmul(y, b)\n",
        "    #print(d.shape)\n",
        "    e = t.matmul(d, a)\n",
        "    numer = t.exp(-0.5 * e)\n",
        "    f = (2 * t.pi)**k\n",
        "    g = t.linalg.det(covar)\n",
        "    denom = t.sqrt(f * g)\n",
        "    pdf = numer / denom\n",
        "  return pdf , numer"
      ],
      "metadata": {
        "id": "5i7Q-4xkJ1YU"
      },
      "execution_count": 88,
      "outputs": []
    },
    {
      "cell_type": "code",
      "source": [
        "import torch as t"
      ],
      "metadata": {
        "id": "bCSswlbNRilJ"
      },
      "execution_count": 51,
      "outputs": []
    },
    {
      "cell_type": "code",
      "source": [
        "mu = t.zeros(10);"
      ],
      "metadata": {
        "id": "bEvCCGkjJ29G"
      },
      "execution_count": 52,
      "outputs": []
    },
    {
      "cell_type": "code",
      "source": [
        "rng = np.random.RandomState(seed=10)\n",
        "eigenvalues = np.linspace(1., 1000., 10)**-1\n",
        "q, _ = np.linalg.qr(rng.randn(10, 10))\n",
        "covariance = (q * eigenvalues**-1).dot(q.T).astype(np.float32)\n",
        "\n",
        "covariance = t.Tensor(covariance).to(device)\n"
      ],
      "metadata": {
        "id": "iKVNgpQnVOnJ"
      },
      "execution_count": 60,
      "outputs": []
    },
    {
      "cell_type": "code",
      "source": [
        "\n",
        "for i in range(1):\n",
        "  for x , y  in enumerate(train_dataloader):\n",
        "    y = y.to(device)\n",
        "    f , det = flow.f(y)\n",
        "    pdf , ill= my_logpdf(f, mu.to(device), covariance)\n",
        "    ill_log = t.log(ill)\n",
        "    #print(y.shape)\n",
        "    #print(det.shape)\n",
        "    y = t.matmul(y.T , det)\n",
        "    q_log = t.log(y)\n",
        "    loss = (q_log - ill_log)\n",
        "    loss = loss.sum()\n",
        "    opt.zero_grad()\n",
        "    loss.backward()\n",
        "    opt.step()\n",
        "  print(loss)\n",
        " "
      ],
      "metadata": {
        "colab": {
          "base_uri": "https://localhost:8080/"
        },
        "id": "Y6DVMfSlTUYF",
        "outputId": "bc1fdab8-8694-4518-d2ac-2d063ddad49a"
      },
      "execution_count": 100,
      "outputs": [
        {
          "output_type": "stream",
          "name": "stdout",
          "text": [
            "tensor(nan, device='cuda:0', grad_fn=<SumBackward0>)\n"
          ]
        }
      ]
    }
  ]
}