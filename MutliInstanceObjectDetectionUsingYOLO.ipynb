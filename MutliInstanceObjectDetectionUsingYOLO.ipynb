{
  "cells": [
    {
      "cell_type": "code",
      "execution_count": null,
      "metadata": {
        "id": "l7SjEkGNBOVg"
      },
      "outputs": [],
      "source": [
        "import os\n",
        "import sys\n",
        "import torchvision.transforms as tvt\n",
        "from torchvision import datasets\n",
        "import torch\n",
        "import torch.nn as nn\n",
        "import torch.nn.functional as F\n",
        "import matplotlib.pyplot as plt\n",
        "from matplotlib.patches import Rectangle\n",
        "import numpy as np\n",
        "from pycocotools.coco import COCO\n",
        "from PIL import Image\n",
        "from torch.utils.data import Dataset\n",
        "from tqdm import tqdm\n",
        "from skimage import io\n",
        "import requests\n",
        "import cv2\n",
        "import json\n",
        "import pickle\n",
        "from sklearn.metrics import mean_squared_error, mean_absolute_error\n",
        "import gc\n",
        "import warnings\n",
        "from skimage.color import gray2rgb\n",
        "import time\n",
        "import progressbar\n",
        "from io import StringIO,BytesIO\n",
        "import torch.optim as optim\n",
        "import json"
      ]
    },
    {
      "cell_type": "code",
      "execution_count": null,
      "metadata": {
        "colab": {
          "base_uri": "https://localhost:8080/"
        },
        "id": "Mt2iHl3lBQ0p",
        "outputId": "e3d3d43a-646f-420b-c579-36600247a8a1"
      },
      "outputs": [
        {
          "output_type": "stream",
          "name": "stdout",
          "text": [
            "--2023-03-22 23:31:50--  http://images.cocodataset.org/annotations/annotations_trainval2014.zip\n",
            "Resolving images.cocodataset.org (images.cocodataset.org)... 52.216.135.35, 52.216.226.48, 52.217.79.180, ...\n",
            "Connecting to images.cocodataset.org (images.cocodataset.org)|52.216.135.35|:80... connected.\n",
            "HTTP request sent, awaiting response... 200 OK\n",
            "Length: 252872794 (241M) [application/zip]\n",
            "Saving to: ‘annotations_trainval2014.zip’\n",
            "\n",
            "annotations_trainva 100%[===================>] 241.16M  32.9MB/s    in 8.5s    \n",
            "\n",
            "2023-03-22 23:31:59 (28.4 MB/s) - ‘annotations_trainval2014.zip’ saved [252872794/252872794]\n",
            "\n",
            "Archive:  annotations_trainval2014.zip\n",
            "  inflating: annotations/instances_train2014.json  \n",
            "  inflating: annotations/instances_val2014.json  \n",
            "  inflating: annotations/person_keypoints_train2014.json  \n",
            "  inflating: annotations/person_keypoints_val2014.json  \n",
            "  inflating: annotations/captions_train2014.json  \n",
            "  inflating: annotations/captions_val2014.json  \n"
          ]
        }
      ],
      "source": [
        "!wget http://images.cocodataset.org/annotations/annotations_trainval2014.zip\n",
        "!unzip annotations_trainval2014.zip"
      ]
    },
    {
      "cell_type": "code",
      "execution_count": null,
      "metadata": {
        "id": "sN6mcwBABAl_"
      },
      "outputs": [],
      "source": [
        "class CocoDownloader:\n",
        "    def __init__(self, root_path, coco_json_path,class_list,mode):\n",
        "        self.root_path = root_path\n",
        "        self.coco_json_path = coco_json_path\n",
        "        self.class_list = class_list\n",
        "        self.coco = COCO(self.coco_json_path)\n",
        "        self.mode = mode\n",
        "\n",
        "        # make coco root dir if doesnt exist\n",
        "        if not os.path.exists(os.path.split(os.path.split(self.root_path)[0])[0] + '/'):\n",
        "            os.makedirs(os.path.split(os.path.split(self.root_path)[0])[0] + '/')\n",
        "        # make train/val dir if doesnt exist\n",
        "        if not os.path.exists(os.path.split(self.root_path)[0] + '/'):\n",
        "            os.makedirs(os.path.split(self.root_path)[0] + '/')\n",
        "        # make class dirs if doesnt exist\n",
        "        for c in self.class_list:\n",
        "            if not os.path.exists(self.root_path + c):\n",
        "                os.makedirs(self.root_path + c)\n",
        "      \n",
        "\n",
        "    def download_imgs(self):\n",
        "      img_ID = []\n",
        "      resize_image = (256,256)\n",
        "      catIds = self.coco.getCatIds(catNms=self.class_list)\n",
        "      resize_image = (256,256)\n",
        "      for catId in catIds:\n",
        "        img_ID.extend(self.coco.getImgIds(catIds=catId ))\n",
        "      self.image_details = []\n",
        "      for img_index in range(len(img_ID)):\n",
        "        img = self.coco.loadImgs(img_ID[img_index])[0]\n",
        "        ann_ids = self.coco.getAnnIds(imgIds=img['id'], catIds=catIds, iscrowd=None)\n",
        "        anns = self.coco.loadAnns(ann_ids)\n",
        "        tmp=[]\n",
        "        h = img['height']\n",
        "        w = img['width']\n",
        "        w_divisor = w / 256\n",
        "        h_divisor = h / 256\n",
        "        nottake = 0\n",
        "        for ann in anns:\n",
        "          if ann['area'] < 4096:\n",
        "            nottake=1 \n",
        "            break\n",
        "          bbox = ann['bbox']\n",
        "          bbox_rescaled = [bbox[0] / w_divisor , bbox[1] / h_divisor ,  bbox[2] / w_divisor, bbox[3]/h_divisor]\n",
        "          tmp.append({'b_box' : bbox_rescaled ,'category_id': ann['category_id']})\n",
        "        \n",
        "        if nottake == 1:continue\n",
        "        image_annotation = {\"file_name\": img['file_name'] , \"main_category\" : ann['category_id'] , \"img_id\" : img['id'] , 'ann_id' : ann_ids , 'objects' : tmp ,\n",
        "                                     \"img_h\" : img['height'],\"img_w\":img['width']}\n",
        "        self.image_details.append(image_annotation)\n",
        "        img_data = requests.get(img['coco_url']).content\n",
        "        if(ann['category_id'] == 6):\n",
        "          c = 'bus'\n",
        "        if(ann['category_id'] == 59):\n",
        "          c = 'pizza'\n",
        "        if(ann['category_id'] == 17):\n",
        "          c = 'cat'\n",
        "        \n",
        "        \n",
        "        img_filename_path = os.path.join(self.root_path + c ,img['file_name'])\n",
        "        with open(img_filename_path, 'wb') as im_w:\n",
        "          im_w.write(img_data)\n",
        "        im = Image.open(img_filename_path)\n",
        "        if im.mode=='L':\n",
        "            im = np.asarray(im)\n",
        "            im = gray2rgb(im)\n",
        "            im = Image.fromarray(im)\n",
        "        im_resized = im.resize(resize_image, Image.BOX)\n",
        "        im_resized.save(img_filename_path)\n",
        "      with open('data_'+self.mode+'.json', 'w') as file:\n",
        "            json.dump(self.image_details, file)\n",
        "      return self.image_details\n"
      ]
    },
    {
      "cell_type": "code",
      "execution_count": null,
      "metadata": {
        "id": "mOs2l94_hWZp"
      },
      "outputs": [],
      "source": [
        "rm -rf HW6data/"
      ]
    },
    {
      "cell_type": "code",
      "execution_count": null,
      "metadata": {
        "colab": {
          "base_uri": "https://localhost:8080/"
        },
        "id": "XGKff9lHBY78",
        "outputId": "c83a7aef-119b-45ba-875f-ea240da0fc96"
      },
      "outputs": [
        {
          "metadata": {
            "tags": null
          },
          "name": "stdout",
          "output_type": "stream",
          "text": [
            "loading annotations into memory...\n",
            "Done (t=12.09s)\n",
            "creating index...\n",
            "index created!\n"
          ]
        }
      ],
      "source": [
        "class_list = ['bus', 'cat', 'pizza']\n",
        "coco_json_path1 = 'annotations/instances_train2014.json'\n",
        "root_path1 = './HW6data/train/'\n",
        "dl_coco1 = CocoDownloader(root_path1 , coco_json_path1, class_list,\"train\")\n",
        "image_details = dl_coco1.download_imgs()"
      ]
    },
    {
      "cell_type": "code",
      "execution_count": null,
      "metadata": {
        "colab": {
          "base_uri": "https://localhost:8080/"
        },
        "id": "3zO1OIv6bQwx",
        "outputId": "8efa9d31-a8c9-4383-f37e-3e790f955ef0"
      },
      "outputs": [
        {
          "metadata": {
            "tags": null
          },
          "name": "stdout",
          "output_type": "stream",
          "text": [
            "loading annotations into memory...\n",
            "Done (t=4.60s)\n",
            "creating index...\n",
            "index created!\n"
          ]
        }
      ],
      "source": [
        "coco_json_path2 = 'annotations/instances_val2014.json'\n",
        "root_path2 = './HW6data/val/'\n",
        "dl_coco2 = CocoDownloader(root_path2 , coco_json_path2, class_list,\"val\")\n",
        "image_details_val = dl_coco2.download_imgs()"
      ]
    },
    {
      "cell_type": "code",
      "execution_count": null,
      "metadata": {
        "id": "DE9rYmefDT5n"
      },
      "outputs": [],
      "source": [
        "image_details = json.load(open('data_train.json'))"
      ]
    },
    {
      "cell_type": "code",
      "execution_count": null,
      "metadata": {
        "colab": {
          "base_uri": "https://localhost:8080/",
          "height": 286
        },
        "id": "RQbPF7WxthBy",
        "outputId": "2f8c4d82-8bb0-4e0a-e54b-c8512f9af814"
      },
      "outputs": [
        {
          "name": "stdout",
          "output_type": "stream",
          "text": [
            "{'file_name': 'COCO_train2014_000000049338.jpg', 'main_category': 6, 'img_id': 49338, 'ann_id': [164277], 'objects': [{'b_box': [0.648, 0.0, 123.63199999999999, 499.9144921875], 'category_id': 6}], 'img_h': 361, 'img_w': 640}\n"
          ]
        },
        {
          "data": {
            "image/png": "[encoded data removed]",
            "text/plain": [
              "<Figure size 432x288 with 1 Axes>"
            ]
          },
          "metadata": {},
          "output_type": "display_data"
        }
      ],
      "source": [
        "im = {}\n",
        "im = image_details[60]\n",
        "print(im)\n",
        "    # load image and annotations\n",
        "img = Image.open(\"HW6data/train/bus/\" + im['file_name'])\n",
        "anns = im['ann_id']\n",
        "    \n",
        "    # plot image and bounding boxes\n",
        "plt.imshow(img)\n",
        "plt.axis('off')\n",
        "ob = im['objects']\n",
        "for i in ob :\n",
        "  bbox = i['b_box']\n",
        "  plt.gca().add_patch(plt.Rectangle((bbox[0], bbox[1]), bbox[2], bbox[3], fill=False, edgecolor='r', linewidth=2))\n",
        "  plt.show()"
      ]
    },
    {
      "cell_type": "code",
      "execution_count": null,
      "metadata": {
        "id": "f5n02hF-thK4"
      },
      "outputs": [],
      "source": []
    },
    {
      "cell_type": "markdown",
      "metadata": {
        "id": "bjuqUKmo0tKu"
      },
      "source": [
        "Finding a cell Index which corresponds to the cell Index "
      ]
    },
    {
      "cell_type": "code",
      "execution_count": null,
      "metadata": {
        "id": "qrZsLgwGrRQz"
      },
      "outputs": [],
      "source": [
        "def cellIndex(c,cells,yolo_interval):\n",
        "  for i in range(cells):\n",
        "    if c>=(yolo_interval*i) and c<=(yolo_interval*(i+1)):\n",
        "      return i"
      ]
    },
    {
      "cell_type": "markdown",
      "metadata": {
        "id": "DfbKOgRpHIwX"
      },
      "source": [
        "Taken from the internet"
      ]
    },
    {
      "cell_type": "code",
      "execution_count": null,
      "metadata": {
        "id": "riDd-m17BNVw"
      },
      "outputs": [],
      "source": [
        "def calculate_iou(boxes1, boxes2):\n",
        "        \"\"\"\n",
        "        Parameters:\n",
        "            boxes1 (tensor): width and height of the first bounding boxes\n",
        "            boxes2 (tensor): width and height of the second bounding boxes\n",
        "        Returns:\n",
        "            tensor: Intersection over union of the corresponding boxes\n",
        "        \"\"\"\n",
        "        #print(f\" box1 = {boxes1} box2 = {boxes2}\")\n",
        "        intersection = min(boxes1[0],boxes2[0]) * min(boxes1[1],boxes2[1])\n",
        "        union = boxes1[0]*boxes1[1] + boxes2[0]*boxes2[1] - intersection\n",
        "        #print(f\"intersection = {intersection} Union = {union}\")\n",
        "        return intersection / union"
      ]
    },
    {
      "cell_type": "code",
      "execution_count": null,
      "metadata": {
        "id": "z1-KMzuNCK4J"
      },
      "outputs": [],
      "source": [
        "anchorBoxes = []\n",
        "yolo_interval = 32 \n",
        "AR = []\n",
        "for i in range(1,5):\n",
        "    for j in range(1,5):\n",
        "        if i/j not in AR:\n",
        "            AR.append(round(i/j,3))\n",
        "            anchorBoxes.append((yolo_interval*i , yolo_interval*j))"
      ]
    },
    {
      "cell_type": "code",
      "execution_count": null,
      "metadata": {
        "colab": {
          "base_uri": "https://localhost:8080/"
        },
        "id": "eIqYYfCujemM",
        "outputId": "63abf673-be77-4570-bfb6-313fd6420949"
      },
      "outputs": [
        {
          "name": "stdout",
          "output_type": "stream",
          "text": [
            "11\n"
          ]
        }
      ],
      "source": [
        "print(len(anchorBoxes))"
      ]
    },
    {
      "cell_type": "markdown",
      "metadata": {
        "id": "CwHZ0yDLEZo1"
      },
      "source": [
        "The idea to sent yolo_tensor was discussed during the office hours and after having discussion with classmates. After discussing in office hours the logic of yolo_tensor was implemented"
      ]
    },
    {
      "cell_type": "code",
      "execution_count": null,
      "metadata": {
        "colab": {
          "base_uri": "https://localhost:8080/"
        },
        "id": "UWwI5eOhCOS5",
        "outputId": "decc535b-2997-40c2-8563-11d33a570cc6"
      },
      "outputs": [
        {
          "name": "stdout",
          "output_type": "stream",
          "text": [
            "6192\n"
          ]
        }
      ],
      "source": [
        "class myDataset(torch.utils.data.Dataset):\n",
        "  def __init__(self,root,imageInfo,transform, anchorBoxes ):\n",
        "    self.root = root\n",
        "    self.data = []\n",
        "    self.imgInfo = imageInfo\n",
        "    self.transform = transform\n",
        "    self.anchorBoxes = anchorBoxes\n",
        "  \n",
        "  def __len__(self):\n",
        "    return len(self.imgInfo)\n",
        "\n",
        "  def __getitem__(self , idx):\n",
        "    category = self.imgInfo[idx]['main_category']\n",
        "    if category == 59:\n",
        "      c = \"pizza/\"\n",
        "    if category == 6:\n",
        "      c = \"bus/\"\n",
        "    if category == 17:\n",
        "      c = \"cat/\"\n",
        "    file_path = os.path.join(self.root , c  , self.imgInfo[idx]['file_name'])\n",
        "    image = Image.open(file_path)\n",
        "    im_tnsr = self.transform(image)\n",
        "    im = {}\n",
        "    im = self.imgInfo[idx]\n",
        "    grid = 256//32\n",
        "\n",
        "    best_bbox_index = 0\n",
        "     # print(len(im['objects']))\n",
        "    yolo_tensor = torch.zeros(grid, grid, len(self.anchorBoxes) , (3+5))\n",
        "    for index in im['objects']:\n",
        "        bbox_gt = index['b_box']\n",
        "        #print(bbox_gt)\n",
        "        object_category = index['category_id']\n",
        "        #print(object_category)\n",
        "\n",
        "\n",
        "        # Convert ground truth bounding box to (x_center, y_center, width, height)\n",
        "        x = bbox_gt[0] +  bbox_gt[2] * 0.5\n",
        "        y = bbox_gt[1] +  bbox_gt[3] * 0.5\n",
        "        \n",
        "        # Calculate cell indices that contain the center of the bounding box\n",
        "        cell_x = cellIndex(x,grid,32)\n",
        "        cell_y = cellIndex(y,grid,32)\n",
        "        \n",
        "        x, y, w, h = bbox_gt[0], bbox_gt[1], bbox_gt[2], bbox_gt[3]\n",
        "        all_ious = [calculate_iou(anchor_box,(w,h)) for anchor_box in self.anchorBoxes]\n",
        "        \n",
        "        best_anchor_index = all_ious.index(max(all_ious))\n",
        "        dx = ((32*cell_x + 32/2) - x)/32\n",
        "        dy = ((32*cell_y + 32/2) - y)/32\n",
        "\n",
        "        anchor_w = w / self.anchorBoxes[best_anchor_index][0]\n",
        "        anchor_h = h / self.anchorBoxes[best_anchor_index][1]\n",
        "        \n",
        "        if object_category == 6:\n",
        "          class_label = [1 , 0 , 0]\n",
        "  \n",
        "        if object_category == 17:\n",
        "          class_label =  [0 , 1 , 0]\n",
        "        \n",
        "        if object_category == 59:\n",
        "          class_label = [0 , 0 , 1]\n",
        "\n",
        "        \n",
        "        yolo_vector = [1 , dx , dy , anchor_w , anchor_h]\n",
        "        yolo_vector.extend(class_label)\n",
        "\n",
        "        yolo_tensor[cell_x][cell_y][best_anchor_index] = torch.tensor(yolo_vector)\n",
        "    \n",
        "    return im_tnsr , yolo_tensor\n",
        "\n",
        "\n",
        "transform = tvt.Compose([tvt.ToTensor()])\n",
        "dataloader_train = myDataset(\"HW6data/train\", image_details, transform , anchorBoxes )\n",
        "loader = torch.utils.data.DataLoader(dataloader_train, batch_size=16,shuffle=True)\n",
        "print(len(loader.dataset))\n"
      ]
    },
    {
      "cell_type": "code",
      "execution_count": null,
      "metadata": {
        "colab": {
          "base_uri": "https://localhost:8080/"
        },
        "id": "DtiOfvcHfNd9",
        "outputId": "e41759ee-157e-4b05-8ca1-25b5d7682445"
      },
      "outputs": [
        {
          "name": "stdout",
          "output_type": "stream",
          "text": [
            "3177\n"
          ]
        }
      ],
      "source": [
        "transform = tvt.Compose([tvt.ToTensor()])\n",
        "dataloader_train = myDataset(\"HW6data/val\", image_details_val, transform , anchorBoxes )\n",
        "loader_val = torch.utils.data.DataLoader(dataloader_train, batch_size=1,shuffle=True)\n",
        "print(len(loader_val.dataset))"
      ]
    },
    {
      "cell_type": "code",
      "source": [],
      "metadata": {
        "id": "OES_-rxINZ63"
      },
      "execution_count": null,
      "outputs": []
    },
    {
      "cell_type": "code",
      "execution_count": null,
      "metadata": {
        "id": "AUvL8_QYNaKB"
      },
      "outputs": [],
      "source": [
        "for image, yolo_tensor in loader:\n",
        "  #finding the indexes where object are present. We can get rid of batch here because the batch size is 0\n",
        "\n",
        "  ObjectPresent = np.where(yolo_tensor[0][:,:,:,0] == 1)\n",
        "  ground_truth_value = yolo_tensor[0][ ObjectPresent[0] , ObjectPresent[1] , ObjectPresent[2]]\n",
        "  bbox = ground_truth_value[0][1:5]\n",
        "\n",
        "  category = ground_truth_value[0][5:].tolist()\n",
        "  print(category)\n",
        "\n",
        "  if category == [1.0 , 0.0, 0.0]:\n",
        "    print(\"bus\")\n",
        "    label = '6'\n",
        "  \n",
        "  if category == [0.0 , 1.0 , 0.0]:\n",
        "    print(\"cat\")\n",
        "    label = '17'\n",
        "\n",
        "  if category == [0.0, 0.0, 1.0]:\n",
        "    print(\"pizza\")\n",
        "    label = '59'  \n",
        "\n",
        "  #looping throught the inages to find the center of bboxes \n",
        "  details = []\n",
        "\n",
        "  for i in range(len(ObjectPresent[0])):\n",
        "    cell_i = (ObjectPresent[0][i],ObjectPresent[1][i])\n",
        "    #print(cell_idx)\n",
        "\n",
        "    anchor_box_idx = ObjectPresent[2][i]\n",
        "    #print(anchor_box_idx)\n",
        "\n",
        "    cell_x = (cell_i[0])*32 + 32/2\n",
        "    cell_y = (cell_i[1])*32 + 32/2\n",
        "\n",
        "    obj_x = cell_x - bbox[0]*32\n",
        "    obj_y = cell_y - bbox[1]*32\n",
        "\n",
        "    w , h = anchorBoxes[anchor_box_idx][0]*bbox[2] , anchorBoxes[anchor_box_idx][1]*bbox[3]\n",
        "    bbox = [obj_x , obj_y  , w, h]\n",
        "\n",
        "\n",
        "    \n",
        "    details.append({'bbox' : bbox , 'category_id' : label})\n",
        "    #print(details)\n",
        "  \n",
        "  images = np.array(image[0].permute(1, 2, 0)).copy()\n",
        "  sample_image = make_bb(images , details, \"true\")\n",
        "  plt.imshow((images*255).astype('uint8'))\n",
        "  plt.show()"
      ]
    },
    {
      "cell_type": "markdown",
      "source": [
        "Inspiration of the network is taken by https://www.youtube.com/watch?v=Grir6TZbc1M&t=1777s&ab_channel=AladdinPersson."
      ],
      "metadata": {
        "id": "P69G91P0I6rp"
      }
    },
    {
      "cell_type": "code",
      "execution_count": null,
      "metadata": {
        "id": "Ng3B8Je9iK2G"
      },
      "outputs": [],
      "source": [
        "class ResidualBlock(torch.nn.Module):\n",
        "    \"\"\" Helper Class\"\"\"\n",
        "\n",
        "    def __init__(self, channels):\n",
        "        \n",
        "        super(ResidualBlock, self).__init__()\n",
        "        \n",
        "        self.block = torch.nn.Sequential(\n",
        "                torch.nn.Conv2d(in_channels=channels[0],\n",
        "                                out_channels=channels[1],\n",
        "                                kernel_size=(3, 3),\n",
        "                                stride=(2, 2),\n",
        "                                padding=1),\n",
        "                torch.nn.BatchNorm2d(channels[1]),\n",
        "                torch.nn.ReLU(inplace=True),\n",
        "                torch.nn.Conv2d(in_channels=channels[1],\n",
        "                                out_channels=channels[2],\n",
        "                                kernel_size=(1, 1),\n",
        "                                stride=(1, 1),\n",
        "                                padding=0),   \n",
        "                torch.nn.BatchNorm2d(channels[2])\n",
        "        )\n",
        "\n",
        "        self.shortcut = torch.nn.Sequential(\n",
        "                torch.nn.Conv2d(in_channels=channels[0],\n",
        "                                out_channels=channels[2],\n",
        "                                kernel_size=(1, 1),\n",
        "                                stride=(2, 2),\n",
        "                                padding=0),\n",
        "                torch.nn.BatchNorm2d(channels[2])\n",
        "        )\n",
        "            \n",
        "    def forward(self, x):\n",
        "        shortcut = x\n",
        "        block = self.block(x)\n",
        "        shortcut = self.shortcut(x)    \n",
        "        x = torch.nn.functional.relu(block+shortcut)\n",
        "        return x"
      ]
    },
    {
      "cell_type": "code",
      "execution_count": null,
      "metadata": {
        "id": "2QBWF6HxGS8Q"
      },
      "outputs": [],
      "source": [
        "class HW6Net(nn.Module):\n",
        "  def __init__ (self , input_nc, classes , anchor_box):\n",
        "    super(HW6Net, self).__init__()\n",
        "\n",
        "    self.rc = nn.ReflectionPad2d(2)\n",
        "    #first convolution block\n",
        "    self.layer1 = nn.Sequential(nn.Conv2d(input_nc , 16 , 3),\n",
        "                                nn.BatchNorm2d(16))\n",
        "\n",
        "    #downsampling\n",
        "\n",
        "    self.downsampling = nn.Sequential(nn.Conv2d(16, 32, 3 , 2),\n",
        "                                      nn.Conv2d(32, 16,  3 , 2 , 1),\n",
        "                                      nn.BatchNorm2d(16))\n",
        "\n",
        "    #residual block 1\n",
        "    self.residual = nn.Sequential(ResidualBlock(channels=[16, 16 , 32]),\n",
        "                                  ResidualBlock(channels=[32 , 64, 128]))\n",
        "\n",
        "    #convolution block\n",
        "    self.conv_2  = nn.Sequential(nn.Conv2d(128,64 , 4 ),\n",
        "                                 nn.Conv2d(64 , 32 , 4 ),\n",
        "                                 nn.BatchNorm2d(32),\n",
        "                                 nn.Conv2d(32,11*(8), 3 ))\n",
        "\n",
        "    #linear layer\n",
        "    #self.fc = nn.Sequential(nn.Linear(12544, 1024),\n",
        "     #                       nn.Linear(1024,512),\n",
        "      #                      nn.Linear(512, 3),\n",
        "       #                     )\n",
        "\n",
        "\n",
        "  def forward(self , input):\n",
        "      \n",
        "      input1 = input.clone()\n",
        "      #images\n",
        "      x = self.rc(input)\n",
        "      x1 = self.layer1(x)\n",
        "      x2 = self.downsampling(x1)\n",
        "      x3 = self.residual(x2)\n",
        "      x4 = self.conv_2(x3)\n",
        "      #print(x4.shape)\n",
        "\n",
        "      #reshape\n",
        "      #x4 = x4.reshape(-1,12544)\n",
        "      #fully connected layers\n",
        "      #x5 = self.fc(x4)\n",
        "\n",
        "      return x4\n"
      ]
    },
    {
      "cell_type": "code",
      "execution_count": null,
      "metadata": {
        "id": "-mo7cUh3waO7",
        "colab": {
          "base_uri": "https://localhost:8080/"
        },
        "outputId": "66b15926-12c0-4589-c708-61c89496953d"
      },
      "outputs": [
        {
          "output_type": "stream",
          "name": "stdout",
          "text": [
            "HW6Net(\n",
            "  (rc): ReflectionPad2d((2, 2, 2, 2))\n",
            "  (layer1): Sequential(\n",
            "    (0): Conv2d(3, 16, kernel_size=(3, 3), stride=(1, 1))\n",
            "    (1): BatchNorm2d(16, eps=1e-05, momentum=0.1, affine=True, track_running_stats=True)\n",
            "  )\n",
            "  (downsampling): Sequential(\n",
            "    (0): Conv2d(16, 32, kernel_size=(3, 3), stride=(2, 2))\n",
            "    (1): Conv2d(32, 16, kernel_size=(3, 3), stride=(2, 2), padding=(1, 1))\n",
            "    (2): BatchNorm2d(16, eps=1e-05, momentum=0.1, affine=True, track_running_stats=True)\n",
            "  )\n",
            "  (residual): Sequential(\n",
            "    (0): ResidualBlock(\n",
            "      (block): Sequential(\n",
            "        (0): Conv2d(16, 16, kernel_size=(3, 3), stride=(2, 2), padding=(1, 1))\n",
            "        (1): BatchNorm2d(16, eps=1e-05, momentum=0.1, affine=True, track_running_stats=True)\n",
            "        (2): ReLU(inplace=True)\n",
            "        (3): Conv2d(16, 32, kernel_size=(1, 1), stride=(1, 1))\n",
            "        (4): BatchNorm2d(32, eps=1e-05, momentum=0.1, affine=True, track_running_stats=True)\n",
            "      )\n",
            "      (shortcut): Sequential(\n",
            "        (0): Conv2d(16, 32, kernel_size=(1, 1), stride=(2, 2))\n",
            "        (1): BatchNorm2d(32, eps=1e-05, momentum=0.1, affine=True, track_running_stats=True)\n",
            "      )\n",
            "    )\n",
            "    (1): ResidualBlock(\n",
            "      (block): Sequential(\n",
            "        (0): Conv2d(32, 64, kernel_size=(3, 3), stride=(2, 2), padding=(1, 1))\n",
            "        (1): BatchNorm2d(64, eps=1e-05, momentum=0.1, affine=True, track_running_stats=True)\n",
            "        (2): ReLU(inplace=True)\n",
            "        (3): Conv2d(64, 128, kernel_size=(1, 1), stride=(1, 1))\n",
            "        (4): BatchNorm2d(128, eps=1e-05, momentum=0.1, affine=True, track_running_stats=True)\n",
            "      )\n",
            "      (shortcut): Sequential(\n",
            "        (0): Conv2d(32, 128, kernel_size=(1, 1), stride=(2, 2))\n",
            "        (1): BatchNorm2d(128, eps=1e-05, momentum=0.1, affine=True, track_running_stats=True)\n",
            "      )\n",
            "    )\n",
            "  )\n",
            "  (conv_2): Sequential(\n",
            "    (0): Conv2d(128, 64, kernel_size=(4, 4), stride=(1, 1))\n",
            "    (1): Conv2d(64, 32, kernel_size=(4, 4), stride=(1, 1))\n",
            "    (2): BatchNorm2d(32, eps=1e-05, momentum=0.1, affine=True, track_running_stats=True)\n",
            "    (3): Conv2d(32, 88, kernel_size=(3, 3), stride=(1, 1))\n",
            "  )\n",
            ")\n"
          ]
        }
      ],
      "source": [
        "model = HW6Net(3,3,11).cuda()\n",
        "print(model)"
      ]
    },
    {
      "cell_type": "markdown",
      "metadata": {
        "id": "mDE9HuF6IWHH"
      },
      "source": [
        "Shape of the yolo_tensor (N, S, S, B, 5 + C)"
      ]
    },
    {
      "cell_type": "code",
      "execution_count": null,
      "metadata": {
        "id": "82q-RGCRAbmZ"
      },
      "outputs": [],
      "source": []
    },
    {
      "cell_type": "markdown",
      "metadata": {
        "id": "XYeAKEcXAcGb"
      },
      "source": [
        "Help taken from chat gpt and https://stackoverflow.com/questions/58136592/for-a-given-condition-get-indices-of-values-in-2d-tensor-a-use-those-to-index for setting the indicees. The training part of the code is inspired by the https://www.youtube.com/watch?v=Grir6TZbc1M&t=1777s&ab_channel=AladdinPersson."
      ]
    },
    {
      "cell_type": "code",
      "execution_count": null,
      "metadata": {
        "colab": {
          "base_uri": "https://localhost:8080/"
        },
        "id": "A1XhZj8awa4B",
        "outputId": "b50a2820-2953-4a0d-fb9f-b7a3c6ddfd99"
      },
      "outputs": [
        {
          "output_type": "stream",
          "name": "stdout",
          "text": [
            "here\n",
            "[ epoch : 1, batch : 100] loss : 6.307\n",
            "here\n",
            "[ epoch : 1, batch : 200] loss : 5.27\n",
            "here\n",
            "[ epoch : 1, batch : 300] loss : 2.665\n",
            "here\n",
            "[ epoch : 2, batch : 100] loss : 1.775\n",
            "here\n",
            "[ epoch : 2, batch : 200] loss : 1.806\n",
            "here\n",
            "[ epoch : 2, batch : 300] loss : 1.784\n",
            "here\n",
            "[ epoch : 3, batch : 100] loss : 1.755\n",
            "here\n",
            "[ epoch : 3, batch : 200] loss : 1.744\n",
            "here\n",
            "[ epoch : 3, batch : 300] loss : 1.739\n",
            "here\n",
            "[ epoch : 4, batch : 100] loss : 1.72\n",
            "here\n",
            "[ epoch : 4, batch : 200] loss : 1.723\n",
            "here\n",
            "[ epoch : 4, batch : 300] loss : 1.72\n",
            "here\n",
            "[ epoch : 5, batch : 100] loss : 1.672\n",
            "here\n",
            "[ epoch : 5, batch : 200] loss : 1.682\n",
            "here\n",
            "[ epoch : 5, batch : 300] loss : 1.701\n",
            "here\n",
            "[ epoch : 6, batch : 100] loss : 1.603\n",
            "here\n",
            "[ epoch : 6, batch : 200] loss : 1.614\n",
            "here\n",
            "[ epoch : 6, batch : 300] loss : 1.623\n",
            "here\n",
            "[ epoch : 7, batch : 100] loss : 1.483\n",
            "here\n",
            "[ epoch : 7, batch : 200] loss : 1.49\n",
            "here\n",
            "[ epoch : 7, batch : 300] loss : 1.535\n",
            "here\n",
            "[ epoch : 8, batch : 100] loss : 1.328\n",
            "here\n",
            "[ epoch : 8, batch : 200] loss : 1.403\n",
            "here\n",
            "[ epoch : 8, batch : 300] loss : 1.419\n",
            "here\n",
            "[ epoch : 9, batch : 100] loss : 1.187\n",
            "here\n",
            "[ epoch : 9, batch : 200] loss : 1.251\n",
            "here\n",
            "[ epoch : 9, batch : 300] loss : 1.278\n",
            "here\n",
            "[ epoch : 10, batch : 100] loss : 1.035\n",
            "here\n",
            "[ epoch : 10, batch : 200] loss : 1.11\n",
            "here\n",
            "[ epoch : 10, batch : 300] loss : 1.149\n"
          ]
        }
      ],
      "source": [
        "model = HW6Net(3,3,16).cuda()\n",
        "\n",
        "criterion1 = nn.BCELoss()                    # For the first element of the 8 element yolo vector              ## (3)\n",
        "criterion2 = nn.MSELoss()                    # For the regression elements (indexed 2,3,4,5) of yolo vector   ## (4)\n",
        "criterion3 = nn.CrossEntropyLoss() \n",
        "optimizer = torch.optim.Adam(model.parameters(), lr=1e-3, betas =( 0.9 , 0.99 ))\n",
        "\n",
        "epochs=10\n",
        "bceLoss = []\n",
        "mseLoss = []\n",
        "ceLoss = []\n",
        "\n",
        "for epoch in range( epochs ):\n",
        "  runningLoss = 0.0\n",
        "  bce = 0.0\n",
        "  mse = 0.0\n",
        "  ce = 0.0\n",
        "  completeLoss = []\n",
        "  for i , data in enumerate(loader):\n",
        "    image, yoloDataloader = data\n",
        "    image = image.cuda()\n",
        "    yoloDataloader = yoloDataloader.cuda()\n",
        "    optimizer.zero_grad()\n",
        "    \n",
        "    pred = model(image)\n",
        "    pred = pred.reshape(16 , 8 , 8 , 11 , 8)\n",
        "            \n",
        "    loss = torch.tensor(0.0, requires_grad=True).float().cuda() \n",
        "    objectPresent = torch.where(yoloDataloader.cpu()[:,:,:,:,0] == 1)\n",
        "    #print(objectPresent)\n",
        "    noObject = torch.where(yoloDataloader.cpu()[:,:,:,:,0] == 0)\n",
        "            \n",
        "    #predictions when object is present in the grid there\n",
        "    predictions = pred[objectPresent[0] , objectPresent[1] , objectPresent[2] , objectPresent[3]]\n",
        "    #print(predictions.shape)\n",
        "    groundtruth = yoloDataloader[objectPresent[0] , objectPresent[1] , objectPresent[2] , objectPresent[3]]\n",
        "\n",
        "    \n",
        "    #Loss 1 which is Binary Cross Entropy between the presence of the object in the predictions and grounf truth \n",
        "    loss1 = criterion1(nn.Sigmoid()(predictions[:,0]) , groundtruth[:,0])\n",
        "    loss += loss1\n",
        "    bce += loss1.item()\n",
        "            \n",
        "    #Loss 2 which is MSE loss between the bounding boxes\n",
        "    loss2 = criterion2(predictions[:,1:5] , groundtruth[:,1:5])\n",
        "    loss += loss2\n",
        "    mse += loss2.item()\n",
        "            \n",
        "    #loss 3 which is cross entropy loss for multiclassification \n",
        "    loss3 = criterion3(predictions[:,5:] , groundtruth[:,5:])\n",
        "    loss += loss3\n",
        "    ce+=loss3.item()\n",
        "\n",
        "    #calculating the bce loss when the object is not present so that we can have that loss incorporated as well in training\n",
        "    predictions = pred[objectPresent[0] , objectPresent[1] , objectPresent[2] , objectPresent[3]]\n",
        "    groundtruth = yoloDataloader[objectPresent[0] , objectPresent[1] , objectPresent[2] , objectPresent[3]]\n",
        "\n",
        "    loss1 = criterion1(nn.Sigmoid()(predictions[:,0]) , groundtruth[:,0])\n",
        "    loss += loss1\n",
        "    bce += loss1.item()\n",
        "    \n",
        "    loss.backward()\n",
        "    optimizer.step()\n",
        "\n",
        "      \n",
        "    runningLoss+= loss.item()\n",
        "    \n",
        "    if(i+1)% 100 == 0:\n",
        "      print(\"here\")\n",
        "      print(f\"[ epoch : {epoch + 1}, batch : {i + 1}] loss : {round(runningLoss/100,3)}\")\n",
        "      completeLoss.append(runningLoss/100)\n",
        "      bceLoss.append(bce/100)\n",
        "      mseLoss.append(mse/100)\n",
        "      ceLoss.append(ce/100)\n",
        "                \n",
        "      runningLoss = 0.0\n",
        "      bce = 0.0\n",
        "      reg = 0.0\n",
        "      ce = 0.0\n",
        "\n",
        "    del image\n",
        "    del yoloDataloader\n",
        "    del pred\n",
        "    #gc.collect()\n"
      ]
    },
    {
      "cell_type": "code",
      "execution_count": null,
      "metadata": {
        "colab": {
          "base_uri": "https://localhost:8080/",
          "height": 265
        },
        "id": "yjKDJ7nnLCsR",
        "outputId": "a099ac03-0d0d-4f5d-da21-16cf5940fc4c"
      },
      "outputs": [
        {
          "output_type": "display_data",
          "data": {
            "text/plain": [
              "<Figure size 432x288 with 1 Axes>"
            ],
            "image/png": "[encoded data removed]"
          },
          "metadata": {
            "needs_background": "light"
          }
        }
      ],
      "source": [
        "plt.plot(bceLoss , label = \"BCE\")\n",
        "plt.plot(mseLoss , label = \"MSE\")\n",
        "plt.plot(ceLoss , label = \"CE\")\n",
        "plt.legend()\n",
        "plt.show()"
      ]
    },
    {
      "cell_type": "code",
      "execution_count": null,
      "metadata": {
        "colab": {
          "base_uri": "https://localhost:8080/",
          "height": 283
        },
        "id": "6VM9HPWotPFD",
        "outputId": "369078ba-e8f2-4931-b7c3-de2169072bb8"
      },
      "outputs": [
        {
          "output_type": "execute_result",
          "data": {
            "text/plain": [
              "[<matplotlib.lines.Line2D at 0x7f4f2f12cd00>]"
            ]
          },
          "metadata": {},
          "execution_count": 158
        },
        {
          "output_type": "display_data",
          "data": {
            "text/plain": [
              "<Figure size 432x288 with 1 Axes>"
            ],
            "image/png": "[encoded data removed]"
          },
          "metadata": {
            "needs_background": "light"
          }
        }
      ],
      "source": [
        "plt.plot(mseLoss , label = \"MSE\")"
      ]
    },
    {
      "cell_type": "code",
      "execution_count": null,
      "metadata": {
        "colab": {
          "base_uri": "https://localhost:8080/",
          "height": 283
        },
        "id": "wiOH4Y4Kth35",
        "outputId": "40a1fca4-7f35-4c7d-aba8-c9dbeb1143d7"
      },
      "outputs": [
        {
          "output_type": "execute_result",
          "data": {
            "text/plain": [
              "[<matplotlib.lines.Line2D at 0x7f4f2e7fb5b0>]"
            ]
          },
          "metadata": {},
          "execution_count": 159
        },
        {
          "output_type": "display_data",
          "data": {
            "text/plain": [
              "<Figure size 432x288 with 1 Axes>"
            ],
            "image/png": "[encoded data removed]"
          },
          "metadata": {
            "needs_background": "light"
          }
        }
      ],
      "source": [
        "plt.plot(bceLoss , label = \"MSE\")"
      ]
    },
    {
      "cell_type": "code",
      "execution_count": null,
      "metadata": {
        "colab": {
          "base_uri": "https://localhost:8080/",
          "height": 283
        },
        "id": "VCHvvJN4tlHs",
        "outputId": "f1564990-4ee0-4794-fd6e-d9210461598d"
      },
      "outputs": [
        {
          "output_type": "execute_result",
          "data": {
            "text/plain": [
              "[<matplotlib.lines.Line2D at 0x7f4f3508c850>]"
            ]
          },
          "metadata": {},
          "execution_count": 160
        },
        {
          "output_type": "display_data",
          "data": {
            "text/plain": [
              "<Figure size 432x288 with 1 Axes>"
            ],
            "image/png": "[encoded data removed]"
          },
          "metadata": {
            "needs_background": "light"
          }
        }
      ],
      "source": [
        "plt.plot(ceLoss , label = \"MSE\")"
      ]
    },
    {
      "cell_type": "markdown",
      "source": [
        "The code was taken from the previous implementations to implement in the bounding box. It is inspored from the code block given in previous homework template"
      ],
      "metadata": {
        "id": "nh1zuW5PzJbi"
      }
    },
    {
      "cell_type": "code",
      "execution_count": null,
      "metadata": {
        "id": "svmADuc72zEa"
      },
      "outputs": [],
      "source": [
        "def make_bb(image , obj , flag):\n",
        "    if flag =='true':\n",
        "        color = (0,1,0)\n",
        "    else:\n",
        "        color = (1,1,0)\n",
        "    for i in obj:\n",
        "        [x , y , w , h] = i['bbox']\n",
        "        image = cv2.rectangle ( image , (int( x ) , int( y ) ) , (int( x + w ) , int ( y + h ) ) , color , 2 )\n",
        "        image = cv2.putText ( image , flag + \"_\" + i['category_id'], (int( x ) , int( y - 10 ) ) , cv2.FONT_HERSHEY_SIMPLEX , 1,color , 2 )\n",
        "    return image"
      ]
    },
    {
      "cell_type": "code",
      "execution_count": null,
      "metadata": {
        "id": "Z0WQz63TBofZ"
      },
      "outputs": [],
      "source": [
        "#using numpy here so that we can print images and the bounding boxes\n",
        "for image, yolo_tensor in loader_val:\n",
        "  #finding the indexes where object are present. We can get rid of batch here because the batch size is 0\n",
        "\n",
        "  ObjectPresent = np.where(yolo_tensor[0][:,:,:,0] == 1)\n",
        "  ground_truth_value = yolo_tensor[0][ ObjectPresent[0] , ObjectPresent[1] , ObjectPresent[2]]\n",
        "  bbox = ground_truth_value[0][1:5]\n",
        "\n",
        "  category = ground_truth_value[0][5:].tolist()\n",
        "  print(category)\n",
        "\n",
        "  if category == [1.0 , 0.0, 0.0]:\n",
        "    print(\"bus\")\n",
        "    label = '6'\n",
        "  \n",
        "  if category == [0.0 , 1.0 , 0.0]:\n",
        "    print(\"cat\")\n",
        "    label = '17'\n",
        "\n",
        "  if category == [0.0, 0.0, 1.0]:\n",
        "    print(\"pizza\")\n",
        "    label = '59'  \n",
        "\n",
        "  #looping throught the inages to find the center of bboxes \n",
        "  details = []\n",
        "\n",
        "  for i in range(len(ObjectPresent[0])):\n",
        "    cell_i = (ObjectPresent[0][i],ObjectPresent[1][i])\n",
        "    best_anchor = ObjectPresent[2][i]\n",
        "\n",
        "    #finding bboxes by removing offsetts\n",
        "    cell_x = (cell_i[0])*32 + 32/2\n",
        "    cell_y = (cell_i[1])*32 + 32/2\n",
        "\n",
        "    obj_x = cell_x - bbox[0]*32\n",
        "    obj_y = cell_y - bbox[1]*32\n",
        "\n",
        "    w , h = anchorBoxes[best_anchor][0]*bbox[2] , anchorBoxes[best_anchor][1]*bbox[3]\n",
        "    bbox = [obj_x , obj_y  , w, h]\n",
        "\n",
        "    details.append({'bbox' : bbox , 'category_id' : label})\n",
        "    print(details)\n",
        "  \n",
        "  images = np.array(image[0].permute(1, 2, 0)).copy()\n",
        "  sample_image = make_bb(images , details, \"true\")\n",
        "\n",
        "  image = image.cuda()\n",
        "  preds = model(image)\n",
        "  preds = preds[0].reshape(8,8,11,8)\n",
        "\n",
        "  objectLength = len(details)\n",
        "  \n",
        "  #The tensor is converted to numpy array becuase we want to calculate the maximum \n",
        "  #value of the object presented and the length of those value should be equal \n",
        "  #to the numbe of objects present\n",
        "  pred_numpy = preds.cpu().detach().numpy()\n",
        "  maximum = np.sort(pred_numpy[:,:,:,0].flatten())[-objectLength:]\n",
        "\n",
        "  objects_pred = []\n",
        "  label = '0'\n",
        "\n",
        "  #just flip the values for decreasing to increasing\n",
        "  for val in np.flip(maximum):\n",
        "    predMaxi = np.where(pred_numpy[:,:,:,0] == val)\n",
        "    \n",
        "    cell = (predMaxi[0][0] , predMaxi[1][0])\n",
        "    \n",
        "    best_anchor = predMaxi[2][0]\n",
        "    \n",
        "    output = preds[0][predMaxi[0],predMaxi[1],predMaxi[2]]\n",
        "    bbox = output[0][1:5]\n",
        "\n",
        "    yolo_vector_cnn = pred_numpy[predMaxi[0] , predMaxi[1] , predMaxi[2]]\n",
        "    categoryIndexes = np.argmax(yolo_vector_cnn[5:][0])\n",
        "    \n",
        "    findCategory = np.argmax((pred_numpy[predMaxi[0],predMaxi[1],predMaxi[2],5:][0]))\n",
        "    \n",
        "    # matching category\n",
        "    if findCategory == 0:\n",
        "      c = '59'\n",
        "    if findCategory == 1:\n",
        "      c = '6'\n",
        "    if findCategory == 2:\n",
        "      c = '17'\n",
        "    \n",
        "    print(cell)\n",
        "    cell_x = (cell_i[0])*32 + 32/2\n",
        "    cell_y = (cell_i[1])*32 + 32/2\n",
        "\n",
        "    obj_x = cell_x - bbox[0]*32\n",
        "    obj_y = cell_y - bbox[1]*32\n",
        "\n",
        "    w , h = anchorBoxes[best_anchor][0]*bbox[2] , anchorBoxes[best_anchor][1]*bbox[3]\n",
        "    bbox = [obj_x , obj_y , w, h]\n",
        "\n",
        "\n",
        "\n",
        "    objects_pred.append({'bbox':bbox , 'category_id':c})\n",
        "\n",
        "  print(\"here\")\n",
        "  \n",
        "  images = make_bb(images,objects_pred,\"f\")\n",
        "  plt.imshow((images*255).astype('uint8'))\n",
        "  plt.show()\n",
        "\n",
        "\n",
        "\n",
        "\n",
        "\n"
      ]
    },
    {
      "cell_type": "code",
      "execution_count": null,
      "metadata": {
        "id": "1gkfmpXtysYU"
      },
      "outputs": [],
      "source": []
    }
  ],
  "metadata": {
    "accelerator": "GPU",
    "colab": {
      "provenance": []
    },
    "gpuClass": "standard",
    "kernelspec": {
      "display_name": "Python 3",
      "name": "python3"
    },
    "language_info": {
      "name": "python"
    }
  },
  "nbformat": 4,
  "nbformat_minor": 0
}