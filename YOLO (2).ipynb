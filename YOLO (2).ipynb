{
  "cells": [
    {
      "cell_type": "code",
      "execution_count": null,
      "id": "5f5ccb7d-35ae-4f66-b8fc-b6fa044ebd31",
      "metadata": {
        "id": "5f5ccb7d-35ae-4f66-b8fc-b6fa044ebd31",
        "outputId": "e2661ceb-7f35-439e-c46a-45e617f06534"
      },
      "outputs": [
        {
          "name": "stderr",
          "output_type": "stream",
          "text": [
            "C:\\Users\\MOHIT\\anaconda3\\envs\\deepLeArning\\lib\\site-packages\\tqdm\\auto.py:22: TqdmWarning: IProgress not found. Please update jupyter and ipywidgets. See https://ipywidgets.readthedocs.io/en/stable/user_install.html\n",
            "  from .autonotebook import tqdm as notebook_tqdm\n",
            "C:\\Users\\MOHIT\\anaconda3\\envs\\deepLeArning\\lib\\site-packages\\scipy\\__init__.py:146: UserWarning: A NumPy version >=1.16.5 and <1.23.0 is required for this version of SciPy (detected version 1.23.5\n",
            "  warnings.warn(f\"A NumPy version >={np_minversion} and <{np_maxversion}\"\n"
          ]
        }
      ],
      "source": [
        "import torch\n",
        "from PIL import Image\n",
        "import glob\n",
        "import torchvision\n",
        "import cv2\n",
        "import random\n",
        "import matplotlib.pyplot as plt\n",
        "import torch.nn as nn\n",
        "#from scipy.stats import wasserstein_distance`\n",
        "import torch.nn.functional as F\n",
        "import progressbar\n",
        "from sklearn import metrics\n",
        "from pycocotools.coco import COCO\n",
        "import numpy as np\n",
        "import skimage.io as io\n",
        "import pylab\n",
        "import random\n",
        "import requests\n",
        "import os\n",
        "import time\n",
        "import json\n",
        "import gc\n",
        "from torchsummary import summary\n",
        "import pycuda.driver as cuda\n",
        "from io import StringIO,BytesIO"
      ]
    },
    {
      "cell_type": "code",
      "execution_count": null,
      "id": "eab7c3ef-0711-4fce-b77f-4519644c4a93",
      "metadata": {
        "id": "eab7c3ef-0711-4fce-b77f-4519644c4a93",
        "outputId": "da511f9a-a642-44b3-a7d1-289c843a67aa"
      },
      "outputs": [
        {
          "name": "stdout",
          "output_type": "stream",
          "text": [
            "Number of Training Images 6192\n",
            "Number of Testing Images 3177\n"
          ]
        }
      ],
      "source": [
        "classes = ['bus', 'pizza', 'cat']\n",
        "img_annotations_train = json.load(open('train_annotations.json'))\n",
        "print(f\"Number of Training Images {len(img_annotations_train)}\")\n",
        "img_annotations_val = json.load(open('val_annotations.json'))\n",
        "print(f\"Number of Testing Images {len(img_annotations_val)}\")"
      ]
    },
    {
      "cell_type": "code",
      "execution_count": null,
      "id": "b8a707a5-11f6-4925-ba4d-bd0ee15e5094",
      "metadata": {
        "id": "b8a707a5-11f6-4925-ba4d-bd0ee15e5094",
        "outputId": "58cd2434-a27a-494c-8b98-8d158d258ef9"
      },
      "outputs": [
        {
          "data": {
            "text/plain": [
              "\"for x in img_annotations_train:\\n    obj = x['objects']\\n    if len(obj)>2:\\n        print(x)\""
            ]
          },
          "execution_count": 3,
          "metadata": {},
          "output_type": "execute_result"
        }
      ],
      "source": [
        "\"\"\"for x in img_annotations_train:\n",
        "    obj = x['objects']\n",
        "    if len(obj)>2:\n",
        "        print(x)\"\"\""
      ]
    },
    {
      "cell_type": "code",
      "execution_count": null,
      "id": "d81d90cc-f092-48fa-b2ca-329154122f7b",
      "metadata": {
        "id": "d81d90cc-f092-48fa-b2ca-329154122f7b"
      },
      "outputs": [],
      "source": [
        "class myDataset(torch.utils.data.Dataset):\n",
        "    def __init__(self,root,img_annotations,cell_length, category_to_OHE , anchor_boxes):\n",
        "        \"\"\"\n",
        "        root : directory of the images\n",
        "        \"\"\"\n",
        "        super().__init__()\n",
        "        self.preprocess = torchvision.transforms.Compose([\n",
        "        #tvt.ToPILImage(),\n",
        "        torchvision.transforms.ToTensor(),\n",
        "        #tvt.Normalize([0,0,0],[1,1,1])\n",
        "        ])\n",
        "        self.img_attr = img_annotations\n",
        "        self.data = []\n",
        "        #self.root = \"/content/drive/MyDrive/Deep_Learning/HW5/\"+ root\n",
        "        self.root =  root\n",
        "        #self.classes = classes\n",
        "        #self.read_images()\n",
        "        self.labels = category_to_OHE\n",
        "        self.cell_length = cell_length\n",
        "        self.num_cells = int(256/cell_length)\n",
        "        self.anchor_boxes = anchor_boxes\n",
        "        print(f\"Number of cells in row and col = {self.num_cells}\")\n",
        "        print(f\"Cell length = {self.cell_length}\")\n",
        "        print(f\"Number of total yolo cells = {self.num_cells**2}\")\n",
        "        \n",
        "\n",
        "    def __len__(self):\n",
        "        return len(self.img_attr)\n",
        "\n",
        "    def __getitem__(self,index):\n",
        "        image = Image.open(f\"{self.root}/{self.img_attr[index]['img_id']}.jpg\")\n",
        "        img_np =  np.array(image)\n",
        "        flag=False\n",
        "        if img_np.ndim == 2:\n",
        "            #print(f\"{index} : B & W\")\n",
        "            rgbimg = Image.new(\"RGB\", image.size)\n",
        "            rgbimg.paste(image)\n",
        "            image = rgbimg\n",
        "            #flag=True\n",
        "        yolo_tensor = torch.zeros(self.num_cells, self.num_cells,len(self.anchor_boxes) , (len(self.labels)+5))\n",
        "        \n",
        "        #print(f\"yolo_tensor = {yolo_tensor}\")\n",
        "        #print(f\"yolo_tensor shape = {yolo_tensor.shape}\")\n",
        "        cell_length = self.cell_length \n",
        "        objects = self.img_attr[index]['objects']\n",
        "        image_tensor = self.preprocess(image).float()\n",
        "        for object1 in objects:\n",
        "            bbox = object1['b_box'] # top left x , y , w, h \n",
        "            label = self.labels[object1['category_id']]\n",
        "            #self.labels[self.class_str_to_num[self.img_attr[index]['class']]]\n",
        "\n",
        "            b_box_center_x , b_box_center_y = [bbox[0] + bbox[2]/2 , bbox[1]+bbox[3]/2]\n",
        "            #print(b_box_center_x , b_box_center_y)\n",
        "            \n",
        "            \n",
        "            # getting the cell index\n",
        "            cell_x , cell_y = [self.find_cell_number(b_box_center_x,self.num_cells,cell_length) , self.find_cell_number(b_box_center_y,self.num_cells,cell_length)]\n",
        "            if cell_x == None:\n",
        "                print(b_box_center_x)\n",
        "                _ = self.find_cell_number(b_box_center_x,self.num_cells, True) \n",
        "            if cell_y == None:\n",
        "                print(b_box_center_y)\n",
        "                _ = self.find_cell_number(b_box_center_y,self.num_cells, True) \n",
        "            #print(cell_x , cell_y)\n",
        "            \n",
        "            \n",
        "            # getting the anchor box index\n",
        "            all_ious = [self.iou_width_height(anchor_box,(bbox[2],bbox[3])) for anchor_box in self.anchor_boxes]\n",
        "            #print(all_ious)\n",
        "            #print(all_ious.index(max(all_ious)))\n",
        "            #print(f\"Anchor box size = {self.anchor_boxes[all_ious.index(max(all_ious))]}, GT BB size = {(bbox[2], bbox[3])}\")\n",
        "            \n",
        "            anchor_box_index = all_ious.index(max(all_ious))\n",
        "            #now making the yolo vector\n",
        "            \n",
        "            delta_center_x = ((*cell_x + cell_length/2) - b_box_center_x)/cell_length\n",
        "            delta_center_y = ((cell_length*cell_y + cell_length/2) - b_box_center_y)/cell_length\n",
        "            \n",
        "            anchor_box_ratio_w = bbox[2] / self.anchor_boxes[anchor_box_index][0]\n",
        "            anchor_box_ratio_h = bbox[3] / self.anchor_boxes[anchor_box_index][1]\n",
        "            \n",
        "            yolo_vector = [1 , delta_center_x , delta_center_y , anchor_box_ratio_w, anchor_box_ratio_h ]\n",
        "            yolo_vector.extend(label)\n",
        "            \n",
        "            \n",
        "            #print(f\" cell={(cell_x,cell_y)} anchor_box={anchor_box_index} yolo_vector={yolo_vector}\")\n",
        "            yolo_tensor[cell_x][cell_y][anchor_box_index] = torch.tensor(yolo_vector)\n",
        "                        \n",
        "        #if index%200==0 or flag:\n",
        "        #    print(f\"{index} : {image_tensor.shape}\")\n",
        "        return image_tensor,yolo_tensor\n",
        "\n",
        "    @staticmethod\n",
        "    def find_cell_number(x,num_cells,cell_length,debug=False):\n",
        "        for i in range(num_cells):\n",
        "            if debug: print(i)\n",
        "            if x>=(cell_length*i) and x<=(cell_length*(i+1)):\n",
        "                #if debug: print(num_cells*(i+1) + num_cells/2 ,\"       \", num_cells*i + num_cells/2)\n",
        "                #if x-(num_cells*i + num_cells/2) < (num_cells*(i+1) + num_cells/2)-x:\n",
        "                return i\n",
        "                #else: return i+1\n",
        "    \n",
        "    #found this online\n",
        "    @staticmethod\n",
        "    def iou_width_height(boxes1, boxes2):\n",
        "        \"\"\"\n",
        "        Parameters:\n",
        "            boxes1 (tensor): width and height of the first bounding boxes\n",
        "            boxes2 (tensor): width and height of the second bounding boxes\n",
        "        Returns:\n",
        "            tensor: Intersection over union of the corresponding boxes\n",
        "        \"\"\"\n",
        "        #print(f\" box1 = {boxes1} box2 = {boxes2}\")\n",
        "        intersection = min(boxes1[0],boxes2[0]) * min(boxes1[1],boxes2[1])\n",
        "        union = boxes1[0]*boxes1[1] + boxes2[0]*boxes2[1] - intersection\n",
        "        #print(f\"intersection = {intersection} Union = {union}\")\n",
        "        return intersection / union"
      ]
    },
    {
      "cell_type": "code",
      "execution_count": null,
      "id": "fe531b94-ea8a-4d80-894d-81e37f933823",
      "metadata": {
        "id": "fe531b94-ea8a-4d80-894d-81e37f933823",
        "outputId": "b110bcaf-011b-4dfd-e4b7-9171b9ed9d1b"
      },
      "outputs": [
        {
          "name": "stdout",
          "output_type": "stream",
          "text": [
            "class map = {6: array([1., 0., 0.]), 59: array([0., 1., 0.]), 17: array([0., 0., 1.])}\n"
          ]
        }
      ],
      "source": [
        "i=0\n",
        "category_map = json.load(open('classMap_annotations.json'))\n",
        "class_map = {}\n",
        "class_map_rev = {}\n",
        "for clas in classes:\n",
        "    class_map[category_map[clas]]=np.zeros(len(classes))\n",
        "    class_map[category_map[clas]][i] = 1 \n",
        "    i=i+1\n",
        "print(f\"class map = {class_map}\")\n",
        "# {'bus': 6, 'pizza': 59, 'cat': 17}"
      ]
    },
    {
      "cell_type": "code",
      "execution_count": null,
      "id": "0bea912d-3216-4020-82a6-e00e8c989396",
      "metadata": {
        "id": "0bea912d-3216-4020-82a6-e00e8c989396",
        "outputId": "bcd211d1-dfdb-45f8-9740-20706332fd2b",
        "colab": {
          "base_uri": "https://localhost:8080/"
        }
      },
      "outputs": [
        {
          "output_type": "error",
          "ename": "NameError",
          "evalue": "ignored",
          "traceback": [
            "\u001b[0;31m---------------------------------------------------------------------------\u001b[0m",
            "\u001b[0;31mNameError\u001b[0m                                 Traceback (most recent call last)",
            "\u001b[0;32m<ipython-input-1-485d49b74485>\u001b[0m in \u001b[0;36m<module>\u001b[0;34m\u001b[0m\n\u001b[0;32m----> 1\u001b[0;31m \u001b[0;32mclass\u001b[0m \u001b[0mResidualBlock\u001b[0m\u001b[0;34m(\u001b[0m\u001b[0mtorch\u001b[0m\u001b[0;34m.\u001b[0m\u001b[0mnn\u001b[0m\u001b[0;34m.\u001b[0m\u001b[0mModule\u001b[0m\u001b[0;34m)\u001b[0m\u001b[0;34m:\u001b[0m\u001b[0;34m\u001b[0m\u001b[0;34m\u001b[0m\u001b[0m\n\u001b[0m\u001b[1;32m      2\u001b[0m     \u001b[0;34m\"\"\" Helper Class\"\"\"\u001b[0m\u001b[0;34m\u001b[0m\u001b[0;34m\u001b[0m\u001b[0m\n\u001b[1;32m      3\u001b[0m     \u001b[0;31m#self.device = torch.device(\"cuda:0\" if torch.cuda.is_available() else \"cpu\")\u001b[0m\u001b[0;34m\u001b[0m\u001b[0;34m\u001b[0m\u001b[0m\n\u001b[1;32m      4\u001b[0m     \u001b[0;32mdef\u001b[0m \u001b[0m__init__\u001b[0m\u001b[0;34m(\u001b[0m\u001b[0mself\u001b[0m\u001b[0;34m,\u001b[0m \u001b[0mchannels\u001b[0m\u001b[0;34m)\u001b[0m\u001b[0;34m:\u001b[0m\u001b[0;34m\u001b[0m\u001b[0;34m\u001b[0m\u001b[0m\n\u001b[1;32m      5\u001b[0m         \u001b[0mself\u001b[0m\u001b[0;34m.\u001b[0m\u001b[0mchannels\u001b[0m \u001b[0;34m=\u001b[0m \u001b[0mchannels\u001b[0m\u001b[0;34m\u001b[0m\u001b[0;34m\u001b[0m\u001b[0m\n",
            "\u001b[0;31mNameError\u001b[0m: name 'torch' is not defined"
          ]
        }
      ],
      "source": [
        "class ResidualBlock(torch.nn.Module):\n",
        "    \"\"\" Helper Class\"\"\"\n",
        "    #self.device = torch.device(\"cuda:0\" if torch.cuda.is_available() else \"cpu\")\n",
        "    def __init__(self, channels):\n",
        "        self.channels = channels\n",
        "        super(ResidualBlock, self).__init__()\n",
        "        self.block = torch.nn.Sequential(\n",
        "                torch.nn.Conv2d(in_channels=channels[0],\n",
        "                                out_channels=channels[1],\n",
        "                                kernel_size=(3, 3),\n",
        "                                stride=(2, 2),\n",
        "                                padding=1),\n",
        "                torch.nn.BatchNorm2d(channels[1]),\n",
        "                torch.nn.ReLU(inplace=True),\n",
        "                torch.nn.Conv2d(in_channels=channels[1],\n",
        "                                out_channels=channels[2],\n",
        "                                kernel_size=(1, 1),\n",
        "                                stride=(1, 1),\n",
        "                                padding=0),   \n",
        "                torch.nn.BatchNorm2d(channels[2])\n",
        "        )\n",
        "\n",
        "        self.shortcut = torch.nn.Sequential(\n",
        "                torch.nn.Conv2d(in_channels=channels[0],\n",
        "                                out_channels=channels[2],\n",
        "                                kernel_size=(1, 1),\n",
        "                                stride=(2, 2),\n",
        "                                padding=0),\n",
        "                torch.nn.BatchNorm2d(channels[2])\n",
        "        )\n",
        "            \n",
        "    def forward(self, x):\n",
        "\n",
        "        debug = False\n",
        "        shortcut = x\n",
        "        if debug : print(\"---------------------------------------------\")\n",
        "        if debug : print(f\"Size of input of Res_forward = {x.shape}\")\n",
        "        if x.shape[-1]%2==0:\n",
        "          #weights = torch.tensor([[1., 0., 0.],\n",
        "          #                        [0., 1., 0.],\n",
        "          #                        [0., 0., 1.]])\n",
        "          kernel_size=3\n",
        "          #weights = torch.tensor([np.ones((kernel_size,kernel_size))])\n",
        "          #weights = weights.view(1, 1, kernel_size, kernel_size).repeat(self.channels[2], self.channels[0] , 1, 1)\n",
        "        else:\n",
        "          kernel_size=5\n",
        "          #weights = torch.tensor([np.ones((5,5))])\n",
        "          #weights = weights.view(1, 1, 5, 5).repeat(self.channels[2], self.channels[0] , 1, 1)\n",
        "\n",
        "        weights = torch.tensor([np.ones((kernel_size,kernel_size))])\n",
        "        weights = weights.view(1, 1, kernel_size, kernel_size).repeat(self.channels[2], self.channels[0] , 1, 1)\n",
        "\n",
        "        weights = weights.cuda()\n",
        "        weights=weights.float()\n",
        "        if debug : print(f\"Size of weights = {weights.shape}\")\n",
        "\n",
        "        #shortcut b in_ch h w \n",
        "        \n",
        "        skip_connection = F.conv2d(shortcut, weights,  padding='valid', stride=2)\n",
        "        #else:\n",
        "        # skip_connection = F.conv2d(shortcut, weights, pading=1)\n",
        "\n",
        "        if debug : print(f\"Size of output of skip_connection = {skip_connection.shape}\")\n",
        "\n",
        "        block = self.block(x)\n",
        "        if debug : print(f\"Size of output of Res_forward_block = {block.shape}\")\n",
        "\n",
        "        \n",
        "        shortcut = self.shortcut(x)    \n",
        "        if debug : print(f\"Size of output of Res_forward_shortcut = {shortcut.shape}\")\n",
        "        #x = torch.nn.functional.relu(block+skip_connection)\n",
        "        x = torch.nn.functional.relu(block+shortcut)\n",
        "        #print(f\"Size of output of Res_forward = {x.shape}\")\n",
        "\n",
        "        return x"
      ]
    },
    {
      "cell_type": "code",
      "execution_count": null,
      "id": "993b07b2-0061-4db4-a542-eca9a9a59e19",
      "metadata": {
        "id": "993b07b2-0061-4db4-a542-eca9a9a59e19"
      },
      "outputs": [],
      "source": [
        "##########################\n",
        "### MODEL\n",
        "##########################\n",
        "\n",
        "class ConvNet(torch.nn.Module):\n",
        "\n",
        "    def __init__(self, num_classes, debug):\n",
        "        super(ConvNet, self).__init__()\n",
        "        self.debug = debug\n",
        "        self.residual_block_1 = ResidualBlock(channels=[3, 8, 16])\n",
        "        self.residual_block_2 = ResidualBlock(channels=[16 , 32, 64])\n",
        "        self.residual_block_4 = ResidualBlock(channels=[64 , 128, 256])\n",
        "\n",
        "        self.linear_0 = torch.nn.Linear(65536, 2048)\n",
        "        #self.linear_1 = torch.nn.Linear(8192, 1024)\n",
        "        #self.linear_2 = torch.nn.Linear(1024, 256)\n",
        "        #self.linear_1 = torch.nn.Linear(65536, 256)\n",
        "\n",
        "        self.linear_last_clf = torch.nn.Linear(2048, 8*8*11*8)\n",
        "        \n",
        "        self.residual_block_3 = ResidualBlock(channels=[16 , 32, 64])\n",
        "        self.residual_block_5 = ResidualBlock(channels=[64 , 128, 256])\n",
        "\n",
        "        self.linear_last_bbox = torch.nn.Linear(2048, 4)\n",
        "        self.AvgPool = nn.AvgPool2d(2, 2)\n",
        "        \n",
        "    def forward(self, x):\n",
        "        \n",
        "        res_1_in_shape = x.shape\n",
        "        out = self.residual_block_1(x)\n",
        "        if self.debug : print(f\"Residual_1\\t\\t{res_1_in_shape}\\t\\t{out.shape}\")\n",
        "        \n",
        "        out_bbox = out\n",
        "        \n",
        "        ############################ branch 1 #########################################\n",
        "        res_2_in_shape = out.shape\n",
        "        out = self.residual_block_2(out)\n",
        "        if self.debug : print(f\"Residual_2\\t\\t{res_2_in_shape}\\t\\t{out.shape}\")\n",
        "\n",
        "      \n",
        "        maxPool_1_in_shape = out.shape\n",
        "        out = self.AvgPool(out)\n",
        "        if self.debug : print(f\"AvgPool_2\\t\\t{maxPool_1_in_shape}\\t\\t{out.shape}\")\n",
        "        \n",
        "        #Added 27-02\n",
        "        res_4_in_shape = out.shape\n",
        "        out = self.residual_block_4(out)\n",
        "        if self.debug : print(f\"Residual_4\\t\\t{res_4_in_shape}\\t\\t{out.shape}\")\n",
        "\n",
        "        out = out.view(out.shape [0], -1 )\n",
        "        lin_0_in_shape = out.shape\n",
        "        out = torch.nn.functional.relu(self.linear_0(out))\n",
        "        if self.debug : print(f\"Linear_0\\t\\t{lin_0_in_shape}\\t\\t{out.shape}\")\n",
        "\n",
        "        #out = torch.nn.functional.relu(self.linear_1(out))\n",
        "        #out = torch.nn.functional.relu(self.linear_2(out))\n",
        "\n",
        "        logits = self.linear_last_clf(out)\n",
        "        if self.debug : print(f\"Linear_1\\t\\t{512}\\t\\t{logits.shape}\\n\")\n",
        "        \n",
        "        ###############################################################################        \n",
        "        \n",
        "        return logits"
      ]
    },
    {
      "cell_type": "code",
      "execution_count": null,
      "id": "9ba3e033-0aa8-4a0d-a4ea-8f6c5d4f044a",
      "metadata": {
        "id": "9ba3e033-0aa8-4a0d-a4ea-8f6c5d4f044a",
        "outputId": "db13c958-cd14-4f6b-e577-96183953460d"
      },
      "outputs": [
        {
          "name": "stdout",
          "output_type": "stream",
          "text": [
            "GPU Device available = NVIDIA GeForce RTX 2060 with Max-Q Design\n",
            "True\n"
          ]
        }
      ],
      "source": [
        "torch.cuda.empty_cache()\n",
        "torch.cuda.memory_summary(device=None, abbreviated=False)\n",
        "cuda.init()\n",
        "print(f\"GPU Device available = {cuda.Device(0).name()}\")\n",
        "print(torch.cuda.is_available())"
      ]
    },
    {
      "cell_type": "code",
      "execution_count": null,
      "id": "231e2826-18f6-4286-86a8-914bbc475867",
      "metadata": {
        "id": "231e2826-18f6-4286-86a8-914bbc475867",
        "outputId": "09556167-2b88-4988-95bd-9e1468c9194b"
      },
      "outputs": [
        {
          "name": "stdout",
          "output_type": "stream",
          "text": [
            "cuda:0\n"
          ]
        }
      ],
      "source": [
        "device = torch.device(\"cuda:0\" if torch.cuda.is_available() else \"cpu\")\n",
        "print(device)"
      ]
    },
    {
      "cell_type": "code",
      "execution_count": null,
      "id": "412f63a4-fea0-4981-9bba-4e88b20feb30",
      "metadata": {
        "tags": [],
        "id": "412f63a4-fea0-4981-9bba-4e88b20feb30",
        "outputId": "7479f87e-b54c-45d3-9837-8ed47c3bf57e"
      },
      "outputs": [
        {
          "name": "stdout",
          "output_type": "stream",
          "text": [
            "number of anchor boxes = 11\n",
            "[(32, 32), (32, 64), (32, 96), (32, 128), (64, 32), (64, 96), (96, 32), (96, 64), (96, 128), (128, 32), (128, 96)] are in ratios [1.0, 0.5, 0.333, 0.25, 2.0, 0.667, 3.0, 1.5, 0.75, 4.0, 1.333]\n",
            "Number of cells in row and col = 8\n",
            "Cell length = 32\n",
            "Number of total yolo cells = 64\n",
            "6192\n",
            "~~~~~~~~~~~~~~~~~ Summary of Net1 ~~~~~~~~~~~~~~~~~~\n"
          ]
        },
        {
          "name": "stderr",
          "output_type": "stream",
          "text": [
            "C:\\Users\\MOHIT\\AppData\\Local\\Temp\\ipykernel_2992\\849373860.py:50: UserWarning: Creating a tensor from a list of numpy.ndarrays is extremely slow. Please consider converting the list to a single numpy.ndarray with numpy.array() before converting to a tensor. (Triggered internally at C:\\cb\\pytorch_1000000000000\\work\\torch\\csrc\\utils\\tensor_new.cpp:233.)\n",
            "  weights = torch.tensor([np.ones((kernel_size,kernel_size))])\n"
          ]
        },
        {
          "name": "stdout",
          "output_type": "stream",
          "text": [
            "----------------------------------------------------------------\n",
            "        Layer (type)               Output Shape         Param #\n",
            "================================================================\n",
            "            Conv2d-1          [-1, 8, 128, 128]             224\n",
            "       BatchNorm2d-2          [-1, 8, 128, 128]              16\n",
            "              ReLU-3          [-1, 8, 128, 128]               0\n",
            "            Conv2d-4         [-1, 16, 128, 128]             144\n",
            "       BatchNorm2d-5         [-1, 16, 128, 128]              32\n",
            "            Conv2d-6         [-1, 16, 128, 128]              64\n",
            "       BatchNorm2d-7         [-1, 16, 128, 128]              32\n",
            "     ResidualBlock-8         [-1, 16, 128, 128]               0\n",
            "            Conv2d-9           [-1, 32, 64, 64]           4,640\n",
            "      BatchNorm2d-10           [-1, 32, 64, 64]              64\n",
            "             ReLU-11           [-1, 32, 64, 64]               0\n",
            "           Conv2d-12           [-1, 64, 64, 64]           2,112\n",
            "      BatchNorm2d-13           [-1, 64, 64, 64]             128\n",
            "           Conv2d-14           [-1, 64, 64, 64]           1,088\n",
            "      BatchNorm2d-15           [-1, 64, 64, 64]             128\n",
            "    ResidualBlock-16           [-1, 64, 64, 64]               0\n",
            "        AvgPool2d-17           [-1, 64, 32, 32]               0\n",
            "           Conv2d-18          [-1, 128, 16, 16]          73,856\n",
            "      BatchNorm2d-19          [-1, 128, 16, 16]             256\n",
            "             ReLU-20          [-1, 128, 16, 16]               0\n",
            "           Conv2d-21          [-1, 256, 16, 16]          33,024\n",
            "      BatchNorm2d-22          [-1, 256, 16, 16]             512\n",
            "           Conv2d-23          [-1, 256, 16, 16]          16,640\n",
            "      BatchNorm2d-24          [-1, 256, 16, 16]             512\n",
            "    ResidualBlock-25          [-1, 256, 16, 16]               0\n",
            "           Linear-26                 [-1, 2048]     134,219,776\n",
            "           Linear-27                 [-1, 5632]      11,539,968\n",
            "================================================================\n",
            "Total params: 145,893,216\n",
            "Trainable params: 145,893,216\n",
            "Non-trainable params: 0\n",
            "----------------------------------------------------------------\n",
            "Input size (MB): 0.75\n",
            "Forward/backward pass size (MB): 29.81\n",
            "Params size (MB): 556.54\n",
            "Estimated Total Size (MB): 587.10\n",
            "----------------------------------------------------------------\n"
          ]
        }
      ],
      "source": [
        "batch_size = 16\n",
        "\n",
        "anchor_boxes = []\n",
        "cell_length = 32 \n",
        "ratios = []\n",
        "for i in range(1,5):\n",
        "    for j in range(1,5):\n",
        "        if i/j not in ratios:\n",
        "            ratios.append(round(i/j,3))\n",
        "            anchor_boxes.append((cell_length*i , cell_length*j))\n",
        "        \n",
        "print(f\"number of anchor boxes = {len(anchor_boxes)}\")\n",
        "print(f\"{anchor_boxes} are in ratios {ratios}\")\n",
        "#[(16, 16),\n",
        "dataloader_train = myDataset(\"train\",img_annotations_train,cell_length,class_map,anchor_boxes)\n",
        "img,label =  dataloader_train[0]\n",
        "\n",
        "loader = torch.utils.data.DataLoader(dataloader_train, batch_size=batch_size,shuffle=True)\n",
        "print(len(loader.dataset))\n",
        "\n",
        "debug= False\n",
        "net1 = ConvNet(num_classes=3,debug=debug)\n",
        "net1 = net1.to( device )\n",
        "print(\"~~~~~~~~~~~~~~~~~ Summary of Net1 ~~~~~~~~~~~~~~~~~~\")\n",
        "summary(net1, (3, 256, 256))\n",
        "\n",
        "criterion1 = nn.BCELoss()                    # For the first element of the 8 element yolo vector              ## (3)\n",
        "criterion2 = nn.MSELoss()                    # For the regression elements (indexed 2,3,4,5) of yolo vector   ## (4)\n",
        "criterion3 = nn.CrossEntropyLoss() \n",
        "epochs = 15\n",
        "optimizer = torch.optim.Adam(net1.parameters(), lr=1e-2, betas =( 0.9 , 0.99 ))"
      ]
    },
    {
      "cell_type": "code",
      "execution_count": null,
      "id": "867c32d9-6cb0-4522-b605-cca5ebe31fff",
      "metadata": {
        "tags": [],
        "id": "867c32d9-6cb0-4522-b605-cca5ebe31fff",
        "outputId": "89245ae7-d909-4647-9a71-3a88c7404320"
      },
      "outputs": [
        {
          "name": "stdout",
          "output_type": "stream",
          "text": [
            " ~~~~~~~~~~~~~~~~~~~~~~~~~~~~~~ Epoch 1 ~~~~~~~~~~~~~~~~~~~~~~~~~~~~~\n"
          ]
        },
        {
          "name": "stderr",
          "output_type": "stream",
          "text": [
            " 25% (99 of 387) |#####                  | Elapsed Time: 0:00:19 ETA:   0:00:54"
          ]
        },
        {
          "name": "stdout",
          "output_type": "stream",
          "text": [
            "[ epoch : 1, batch : 100] loss : 27.353\n"
          ]
        },
        {
          "name": "stderr",
          "output_type": "stream",
          "text": [
            " 51% (200 of 387) |###########           | Elapsed Time: 0:00:38 ETA:   0:00:35"
          ]
        },
        {
          "name": "stdout",
          "output_type": "stream",
          "text": [
            "[ epoch : 1, batch : 200] loss : 26.972\n"
          ]
        },
        {
          "name": "stderr",
          "output_type": "stream",
          "text": [
            " 77% (299 of 387) |################      | Elapsed Time: 0:00:57 ETA:   0:00:16"
          ]
        },
        {
          "name": "stdout",
          "output_type": "stream",
          "text": [
            "[ epoch : 1, batch : 300] loss : 26.226\n"
          ]
        },
        {
          "name": "stderr",
          "output_type": "stream",
          "text": [
            "100% (387 of 387) |######################| Elapsed Time: 0:01:14 Time:  0:01:14\n",
            "  0% (0 of 387) |                        | Elapsed Time: 0:00:00 ETA:  --:--:--"
          ]
        },
        {
          "name": "stdout",
          "output_type": "stream",
          "text": [
            "Epoch 1 | Loss : 26.225785617828368\n",
            " ~~~~~~~~~~~~~~~~~~~~~~~~~~~~~~ Epoch 2 ~~~~~~~~~~~~~~~~~~~~~~~~~~~~~\n"
          ]
        },
        {
          "name": "stderr",
          "output_type": "stream",
          "text": [
            " 25% (100 of 387) |#####                 | Elapsed Time: 0:00:19 ETA:   0:00:54"
          ]
        },
        {
          "name": "stdout",
          "output_type": "stream",
          "text": [
            "[ epoch : 2, batch : 100] loss : 27.677\n"
          ]
        },
        {
          "name": "stderr",
          "output_type": "stream",
          "text": [
            " 51% (200 of 387) |###########           | Elapsed Time: 0:00:39 ETA:   0:00:35"
          ]
        },
        {
          "name": "stdout",
          "output_type": "stream",
          "text": [
            "[ epoch : 2, batch : 200] loss : 25.94\n"
          ]
        },
        {
          "name": "stderr",
          "output_type": "stream",
          "text": [
            " 77% (300 of 387) |#################     | Elapsed Time: 0:00:58 ETA:   0:00:16"
          ]
        },
        {
          "name": "stdout",
          "output_type": "stream",
          "text": [
            "[ epoch : 2, batch : 300] loss : 26.711\n"
          ]
        },
        {
          "name": "stderr",
          "output_type": "stream",
          "text": [
            "100% (387 of 387) |######################| Elapsed Time: 0:01:15 Time:  0:01:15\n"
          ]
        },
        {
          "name": "stdout",
          "output_type": "stream",
          "text": [
            "Epoch 2 | Loss : 26.710800952911377\n"
          ]
        },
        {
          "name": "stderr",
          "output_type": "stream",
          "text": [
            "  0% (0 of 387) |                        | Elapsed Time: 0:00:00 ETA:  --:--:--"
          ]
        },
        {
          "name": "stdout",
          "output_type": "stream",
          "text": [
            " ~~~~~~~~~~~~~~~~~~~~~~~~~~~~~~ Epoch 3 ~~~~~~~~~~~~~~~~~~~~~~~~~~~~~\n"
          ]
        },
        {
          "name": "stderr",
          "output_type": "stream",
          "text": [
            " 25% (99 of 387) |#####                  | Elapsed Time: 0:00:19 ETA:   0:00:55"
          ]
        },
        {
          "name": "stdout",
          "output_type": "stream",
          "text": [
            "[ epoch : 3, batch : 100] loss : 26.281\n"
          ]
        },
        {
          "name": "stderr",
          "output_type": "stream",
          "text": [
            " 51% (200 of 387) |###########           | Elapsed Time: 0:00:38 ETA:   0:00:36"
          ]
        },
        {
          "name": "stdout",
          "output_type": "stream",
          "text": [
            "[ epoch : 3, batch : 200] loss : 26.599\n"
          ]
        },
        {
          "name": "stderr",
          "output_type": "stream",
          "text": [
            " 77% (300 of 387) |#################     | Elapsed Time: 0:00:57 ETA:   0:00:16"
          ]
        },
        {
          "name": "stdout",
          "output_type": "stream",
          "text": [
            "[ epoch : 3, batch : 300] loss : 25.996\n"
          ]
        },
        {
          "name": "stderr",
          "output_type": "stream",
          "text": [
            "100% (387 of 387) |######################| Elapsed Time: 0:01:13 Time:  0:01:13\n"
          ]
        },
        {
          "name": "stdout",
          "output_type": "stream",
          "text": [
            "Epoch 3 | Loss : 25.99617063522339\n",
            " ~~~~~~~~~~~~~~~~~~~~~~~~~~~~~~ Epoch 4 ~~~~~~~~~~~~~~~~~~~~~~~~~~~~~\n"
          ]
        },
        {
          "name": "stderr",
          "output_type": "stream",
          "text": [
            " 25% (100 of 387) |#####                 | Elapsed Time: 0:00:19 ETA:   0:00:54"
          ]
        },
        {
          "name": "stdout",
          "output_type": "stream",
          "text": [
            "[ epoch : 4, batch : 100] loss : 27.215\n"
          ]
        },
        {
          "name": "stderr",
          "output_type": "stream",
          "text": [
            " 51% (200 of 387) |###########           | Elapsed Time: 0:00:38 ETA:   0:00:35"
          ]
        },
        {
          "name": "stdout",
          "output_type": "stream",
          "text": [
            "[ epoch : 4, batch : 200] loss : 25.512\n"
          ]
        },
        {
          "name": "stderr",
          "output_type": "stream",
          "text": [
            " 77% (300 of 387) |#################     | Elapsed Time: 0:00:57 ETA:   0:00:16"
          ]
        },
        {
          "name": "stdout",
          "output_type": "stream",
          "text": [
            "[ epoch : 4, batch : 300] loss : 25.736\n"
          ]
        },
        {
          "name": "stderr",
          "output_type": "stream",
          "text": [
            "100% (387 of 387) |######################| Elapsed Time: 0:01:13 Time:  0:01:13\n",
            "  0% (0 of 387) |                        | Elapsed Time: 0:00:00 ETA:  --:--:--"
          ]
        },
        {
          "name": "stdout",
          "output_type": "stream",
          "text": [
            "Epoch 4 | Loss : 25.735996437072753\n",
            " ~~~~~~~~~~~~~~~~~~~~~~~~~~~~~~ Epoch 5 ~~~~~~~~~~~~~~~~~~~~~~~~~~~~~\n"
          ]
        },
        {
          "name": "stderr",
          "output_type": "stream",
          "text": [
            " 25% (100 of 387) |#####                 | Elapsed Time: 0:00:18 ETA:   0:00:53"
          ]
        },
        {
          "name": "stdout",
          "output_type": "stream",
          "text": [
            "[ epoch : 5, batch : 100] loss : 25.416\n"
          ]
        },
        {
          "name": "stderr",
          "output_type": "stream",
          "text": [
            " 51% (199 of 387) |###########           | Elapsed Time: 0:00:37 ETA:   0:00:34"
          ]
        },
        {
          "name": "stdout",
          "output_type": "stream",
          "text": [
            "[ epoch : 5, batch : 200] loss : 25.777\n"
          ]
        },
        {
          "name": "stderr",
          "output_type": "stream",
          "text": [
            " 77% (300 of 387) |#################     | Elapsed Time: 0:00:55 ETA:   0:00:16"
          ]
        },
        {
          "name": "stdout",
          "output_type": "stream",
          "text": [
            "[ epoch : 5, batch : 300] loss : 26.22\n"
          ]
        },
        {
          "name": "stderr",
          "output_type": "stream",
          "text": [
            "100% (387 of 387) |######################| Elapsed Time: 0:01:12 Time:  0:01:12\n"
          ]
        },
        {
          "name": "stdout",
          "output_type": "stream",
          "text": [
            "Epoch 5 | Loss : 26.22024576187134\n"
          ]
        }
      ],
      "source": [
        "epochs=5\n",
        "num_cells = int(256/cell_length)\n",
        "num_anchor_boxes = len(anchor_boxes)\n",
        "debug=False\n",
        "loss_through_epochs = []\n",
        "bce_loss = []\n",
        "reg_loss = []\n",
        "clf_loss = []\n",
        "for epoch in range( epochs ):\n",
        "    running_loss = 0.0\n",
        "    running_loss_bce = 0.0\n",
        "    running_loss_reg = 0.0\n",
        "    running_loss_clf = 0.0\n",
        "    loss_in_epoch= []\n",
        "    print(f\" ~~~~~~~~~~~~~~~~~~~~~~~~~~~~~~ Epoch {epoch+1} ~~~~~~~~~~~~~~~~~~~~~~~~~~~~~\")\n",
        "    with progressbar.ProgressBar(max_value=len(loader)) as bar:\n",
        "        for i , data in enumerate(loader):\n",
        "            #if i>1: break\n",
        "            inputs, yolo_tensor_gt = data\n",
        "            #print(f\"================ Batch {i} ====================\")\n",
        "            inputs = inputs.to( device )\n",
        "            #labels = labels.type(torch.DoubleTensor)\n",
        "            yolo_tensor_gt = yolo_tensor_gt.to( device )\n",
        "            #cell_index = cell_index.to(device)\n",
        "            #anchorbox_index = anchorbox_index.to(device)\n",
        "            \n",
        "            #bbox_true = bbox_true.type(torch.DoubleTensor)\n",
        "            #bbox_true = bbox_true.to(device)\n",
        "            num_skipped = 0\n",
        "            optimizer.zero_grad()\n",
        "            if debug : print(f\"Yolo tensor GT iteration {i}: {yolo_tensor_gt.shape}\\n\")\n",
        "            outputs = net1(inputs)\n",
        "            outputs = torch.reshape(outputs , (batch_size , num_cells , num_cells , num_anchor_boxes , 8))\n",
        "            if debug : print(f\"\\nOutput size iteration {i}  : {outputs.shape}\")\n",
        "            loss = torch.tensor(0.0, requires_grad=True).float().to(device)  \n",
        "            \n",
        "            ################################### loop code #################################\n",
        "            #with progressbar.ProgressBar(max_value=batch_size) as bar1:\n",
        "            #for batch_idx in range(batch_size):\n",
        "            #    #print(\"===========================================================\")\n",
        "            #    #print(f\"Image in batch index = {batch_idx}\")\n",
        "            #    #print(outputs[1,1,1,:,0]) ## first element that says if there is a bounding box or not\n",
        "            #    #print(outputs[1,1,1,:,1:5]) ## bounding boxes\n",
        "            #    #print(outputs[1,1,1,:,5:]) ## classification\n",
        "            #    #cell_x = cell_index[0][batch_idx]\n",
        "            #    #cell_y = cell_index[1][batch_idx]\n",
        "            #    #anchorbox = anchorbox_index[batch_idx]\n",
        "            #    for cell_x in range(num_cells):\n",
        "            #        for cell_y in range(num_cells):\n",
        "            #            for anchorbox in range(num_anchor_boxes):\n",
        "            #                batch_output =outputs[batch_idx , cell_x , cell_y, anchorbox]\n",
        "            #                batch_gt = yolo_tensor_gt[batch_idx , cell_x , cell_y, anchorbox]\n",
        "            #                if debug : print(f\"yolo vector of a batch {batch_output} first element on sigmoid= {nn.Sigmoid()(batch_output[0])} \")\n",
        "            #                if batch_gt[0]==1 and debug : print(f\"first element on sigmoid= {nn.Sigmoid()(batch_output[0])} and GT = {batch_gt[0]}\")\n",
        "            #                if batch_gt[0] == 1:\n",
        "            #                    #print(f\"first element on sigmoid= {nn.Sigmoid()(batch_output[0])} and GT = {batch_gt[0]}\")\n",
        "            #                    bceloss = criterion1(nn.Sigmoid()(batch_output[0]) , batch_gt[0])\n",
        "            #                    if debug : print(f\"BCE loss = {bceloss.item()}\")\n",
        "            #                    loss += 5*bceloss\n",
        "            #                    running_loss_bce+=bceloss.item()\n",
        "\n",
        "            #                    regloss = criterion2(batch_output[1:5] , batch_gt[1:5])\n",
        "            #                    loss += regloss\n",
        "            #                    running_loss_reg+=regloss.item()\n",
        "\n",
        "            #                    CEloss = criterion3(batch_output[5:] , batch_gt[5:])\n",
        "            #                    loss += CEloss\n",
        "            #                    running_loss_clf+=CEloss.item()\n",
        "            #                else:\n",
        "            #                    bceloss = criterion1(nn.Sigmoid()(batch_output[0]) , batch_gt[0])\n",
        "            #                    if debug : print(f\"BCE loss = {bceloss.item()}\")\n",
        "            #                    loss += 0.5*bceloss\n",
        "            #                    running_loss_bce+=bceloss.item()\n",
        "            #                    \n",
        "                #bar1.update(batch_idx)\n",
        "                #########################################################################################\n",
        "                    \n",
        "                    \n",
        "            if debug : print(f\"Pred 1st element {batch_output[0].shape}\")\n",
        "            if debug : print(f\"GT 1st element {batch_gt[0].shape}\")\n",
        "            #print(outputs[:,:,:,:,0])\n",
        "            #print( yolo_tensor_gt[:,:,:,:,0])\n",
        "            #bceloss = criterion1(nn.Sigmoid()(batch_output[0]), batch_gt[0])\n",
        "            \n",
        "            #index where prediction of 1st element is < some threshold\n",
        "            \n",
        "            ################################# without loop code #####################################\n",
        "            outputs_cpu_np = outputs.cpu()\n",
        "            yolo_tensor_gt_cpu_np = yolo_tensor_gt.cpu()\n",
        "            #outputs_cpu_np = nn.Sigmoid()(outputs_cpu_np[:,:,:,:,0])\n",
        "            #output_tensor = output_tensor.detach().numpy()\n",
        "            index_object_there = np.where(yolo_tensor_gt_cpu_np[:,:,:,:,0] == 1)\n",
        "            index_object_not_there = np.where(yolo_tensor_gt_cpu_np[:,:,:,:,0] == 0)\n",
        "            #print(len(index_object_there[0]))\n",
        "            #print(index_object_there)\n",
        "            #print(len(index_object_not_there[0]))\n",
        "            \n",
        "            for obj_idx in range(len(index_object_there[0])):\n",
        "                batch_output = outputs[index_object_there[0][obj_idx] , index_object_there[1][obj_idx] , index_object_there[2][obj_idx], index_object_there[3][obj_idx]]\n",
        "                batch_gt = yolo_tensor_gt[index_object_there[0][obj_idx] , index_object_there[1][obj_idx] , index_object_there[2][obj_idx], index_object_there[3][obj_idx]]\n",
        "                \n",
        "                #print(batch_output)\n",
        "                #bceloss = criterion1(nn.Sigmoid()(outputs[:,:,:,:,0]) , yolo_tensor_gt[:,:,:,:,0])\n",
        "                #print(batch_output[0])\n",
        "                bceloss = criterion1(nn.Sigmoid()(batch_output[0]) , batch_gt[0])\n",
        "                if debug : print(f\"BCE loss = {bceloss.item()}\")\n",
        "                loss += 1*bceloss\n",
        "                running_loss_bce+=1*bceloss.item()\n",
        "\n",
        "                #regloss = criterion2(outputs[:,:,:,:,1:5] , yolo_tensor_gt[:,:,:,:,1:5])\n",
        "                #print(batch_output[1:5])\n",
        "                regloss1 = criterion2(batch_output[1:3] , batch_gt[1:3])\n",
        "                regloss2 = criterion2(torch.sqrt(torch.abs(batch_output[3:5])) , torch.sqrt(torch.abs(batch_gt[3:5])))\n",
        "                regloss = criterion2(batch_output[1:5] , batch_gt[1:5])\n",
        "                loss += regloss\n",
        "                running_loss_reg+=regloss.item()\n",
        "\n",
        "                #CEloss = criterion3(outputs[:,:,:,:,5:] , yolo_tensor_gt[:,:,:,:,5:])\n",
        "                #print(batch_output[5:])\n",
        "                CEloss = criterion3(batch_output[5:] , batch_gt[5:])\n",
        "                loss += CEloss\n",
        "                running_loss_clf+=CEloss.item()\n",
        "            \n",
        "            for obj_idx_nt in range(len(index_object_not_there)):\n",
        "                batch_output = outputs[index_object_there[0][obj_idx_nt] , index_object_there[1][obj_idx_nt] , index_object_there[2][obj_idx_nt], index_object_there[3][obj_idx_nt]]\n",
        "                batch_gt = yolo_tensor_gt[index_object_there[0][obj_idx_nt] , index_object_there[1][obj_idx_nt] , index_object_there[2][obj_idx_nt], index_object_there[3][obj_idx_nt]]\n",
        "                #bceloss = criterion1(nn.Sigmoid()(outputs[:,:,:,:,0]) , yolo_tensor_gt[:,:,:,:,0])\n",
        "                bceloss = criterion1(nn.Sigmoid()(batch_output[0]) , batch_gt[0])\n",
        "                if debug : print(f\"BCE loss = {bceloss.item()}\")\n",
        "                loss += 5*bceloss\n",
        "                running_loss_bce+=5*bceloss.item()\n",
        "        \n",
        "            #########################################################################################\n",
        "\n",
        "            loss.backward()\n",
        "            optimizer.step()\n",
        "\n",
        "            #running_loss += loss.item()\n",
        "            running_loss+= loss.item()\n",
        "                \n",
        "            num_step_record = 100\n",
        "            if(i+1)% num_step_record == 0:\n",
        "                if (i+1)% 100==0: print(f\"[ epoch : {epoch + 1}, batch : {i + 1}] loss : {round(running_loss/num_step_record,3)}\")\n",
        "                loss_in_epoch.append(running_loss/num_step_record)\n",
        "                bce_loss.append(running_loss_bce/num_step_record)\n",
        "                reg_loss.append(running_loss_reg/num_step_record)\n",
        "                clf_loss.append(running_loss_clf/num_step_record)\n",
        "                #loss_in_epoch_bbox.append(running_loss_bbox/100)\n",
        "                running_loss = 0.0\n",
        "                running_loss_bce = 0.0\n",
        "                running_loss_reg = 0.0\n",
        "                running_loss_clf = 0.0\n",
        "                #running_loss_bbox = 0.0\n",
        "            bar.update(i)\n",
        "    print(f\"Epoch {epoch+1} | Loss : {loss_in_epoch[-1]}\" )\n",
        "    loss_through_epochs.append(loss_in_epoch)\n",
        "\n",
        "    del inputs\n",
        "    del yolo_tensor_gt\n",
        "    del outputs\n",
        "    gc.collect()"
      ]
    },
    {
      "cell_type": "code",
      "execution_count": null,
      "id": "8a0467c0-7676-46b6-b1d8-4175a7473517",
      "metadata": {
        "id": "8a0467c0-7676-46b6-b1d8-4175a7473517"
      },
      "outputs": [],
      "source": []
    },
    {
      "cell_type": "code",
      "execution_count": null,
      "id": "19bee31c-083b-424a-8f2e-46ce3ca28664",
      "metadata": {
        "id": "19bee31c-083b-424a-8f2e-46ce3ca28664",
        "outputId": "5ab97d88-779a-4a6b-c384-2c3cdbcd432c"
      },
      "outputs": [
        {
          "data": {
            "image/png": "[encoded data removed]",
            "text/plain": [
              "<Figure size 640x480 with 1 Axes>"
            ]
          },
          "metadata": {},
          "output_type": "display_data"
        },
        {
          "data": {
            "image/png": "[encoded data removed]",
            "text/plain": [
              "<Figure size 640x480 with 1 Axes>"
            ]
          },
          "metadata": {},
          "output_type": "display_data"
        }
      ],
      "source": [
        "loss_throughout = []\n",
        "for i in loss_through_epochs: loss_throughout.extend(i)\n",
        "plt.plot(loss_throughout)\n",
        "plt.show()\n",
        "save = True\n",
        "if save:\n",
        "    torch.save(net1, \"net1\")\n",
        "    with open(\"bce_loss\", \"w\") as fp: json.dump(bce_loss, fp)\n",
        "    with open(\"reg_loss\", \"w\") as fp: json.dump(reg_loss, fp)\n",
        "    with open(\"clf_loss\", \"w\") as fp: json.dump(clf_loss, fp)\n",
        "\n",
        "plt.plot(bce_loss , label = \"BCE\")\n",
        "plt.plot(reg_loss , label = \"Reg\")\n",
        "plt.plot(clf_loss , label = \"CLF\")\n",
        "plt.legend()\n",
        "plt.show()"
      ]
    },
    {
      "cell_type": "code",
      "execution_count": null,
      "id": "6efe486a-1dcd-42f9-a229-c4542781c76b",
      "metadata": {
        "collapsed": true,
        "jupyter": {
          "outputs_hidden": true
        },
        "tags": [],
        "id": "6efe486a-1dcd-42f9-a229-c4542781c76b",
        "outputId": "cdfebd6e-a341-426c-9f47-d43ce9bb682d"
      },
      "outputs": [
        {
          "ename": "TypeError",
          "evalue": "can't convert cuda:0 device type tensor to numpy. Use Tensor.cpu() to copy the tensor to host memory first.",
          "output_type": "error",
          "traceback": [
            "\u001b[1;31m---------------------------------------------------------------------------\u001b[0m",
            "\u001b[1;31mTypeError\u001b[0m                                 Traceback (most recent call last)",
            "Cell \u001b[1;32mIn[18], line 1\u001b[0m\n\u001b[1;32m----> 1\u001b[0m \u001b[43mplt\u001b[49m\u001b[38;5;241;43m.\u001b[39;49m\u001b[43mplot\u001b[49m\u001b[43m(\u001b[49m\u001b[43mbce_loss\u001b[49m\u001b[43m \u001b[49m\u001b[43m,\u001b[49m\u001b[43m \u001b[49m\u001b[43mlabel\u001b[49m\u001b[43m \u001b[49m\u001b[38;5;241;43m=\u001b[39;49m\u001b[43m \u001b[49m\u001b[38;5;124;43m\"\u001b[39;49m\u001b[38;5;124;43mBCE\u001b[39;49m\u001b[38;5;124;43m\"\u001b[39;49m\u001b[43m)\u001b[49m\n\u001b[0;32m      2\u001b[0m plt\u001b[38;5;241m.\u001b[39mplot(reg_loss , label \u001b[38;5;241m=\u001b[39m \u001b[38;5;124m\"\u001b[39m\u001b[38;5;124mReg\u001b[39m\u001b[38;5;124m\"\u001b[39m)\n\u001b[0;32m      3\u001b[0m plt\u001b[38;5;241m.\u001b[39mplot(clf_loss , label \u001b[38;5;241m=\u001b[39m \u001b[38;5;124m\"\u001b[39m\u001b[38;5;124mCLF\u001b[39m\u001b[38;5;124m\"\u001b[39m)\n",
            "File \u001b[1;32m~\\anaconda3\\envs\\deepLeArning\\lib\\site-packages\\matplotlib\\pyplot.py:2767\u001b[0m, in \u001b[0;36mplot\u001b[1;34m(scalex, scaley, data, *args, **kwargs)\u001b[0m\n\u001b[0;32m   2765\u001b[0m \u001b[38;5;129m@_copy_docstring_and_deprecators\u001b[39m(Axes\u001b[38;5;241m.\u001b[39mplot)\n\u001b[0;32m   2766\u001b[0m \u001b[38;5;28;01mdef\u001b[39;00m \u001b[38;5;21mplot\u001b[39m(\u001b[38;5;241m*\u001b[39margs, scalex\u001b[38;5;241m=\u001b[39m\u001b[38;5;28;01mTrue\u001b[39;00m, scaley\u001b[38;5;241m=\u001b[39m\u001b[38;5;28;01mTrue\u001b[39;00m, data\u001b[38;5;241m=\u001b[39m\u001b[38;5;28;01mNone\u001b[39;00m, \u001b[38;5;241m*\u001b[39m\u001b[38;5;241m*\u001b[39mkwargs):\n\u001b[1;32m-> 2767\u001b[0m     \u001b[38;5;28;01mreturn\u001b[39;00m gca()\u001b[38;5;241m.\u001b[39mplot(\n\u001b[0;32m   2768\u001b[0m         \u001b[38;5;241m*\u001b[39margs, scalex\u001b[38;5;241m=\u001b[39mscalex, scaley\u001b[38;5;241m=\u001b[39mscaley,\n\u001b[0;32m   2769\u001b[0m         \u001b[38;5;241m*\u001b[39m\u001b[38;5;241m*\u001b[39m({\u001b[38;5;124m\"\u001b[39m\u001b[38;5;124mdata\u001b[39m\u001b[38;5;124m\"\u001b[39m: data} \u001b[38;5;28;01mif\u001b[39;00m data \u001b[38;5;129;01mis\u001b[39;00m \u001b[38;5;129;01mnot\u001b[39;00m \u001b[38;5;28;01mNone\u001b[39;00m \u001b[38;5;28;01melse\u001b[39;00m {}), \u001b[38;5;241m*\u001b[39m\u001b[38;5;241m*\u001b[39mkwargs)\n",
            "File \u001b[1;32m~\\anaconda3\\envs\\deepLeArning\\lib\\site-packages\\matplotlib\\axes\\_axes.py:1635\u001b[0m, in \u001b[0;36mAxes.plot\u001b[1;34m(self, scalex, scaley, data, *args, **kwargs)\u001b[0m\n\u001b[0;32m   1393\u001b[0m \u001b[38;5;124;03m\"\"\"\u001b[39;00m\n\u001b[0;32m   1394\u001b[0m \u001b[38;5;124;03mPlot y versus x as lines and/or markers.\u001b[39;00m\n\u001b[0;32m   1395\u001b[0m \n\u001b[1;32m   (...)\u001b[0m\n\u001b[0;32m   1632\u001b[0m \u001b[38;5;124;03m(``'green'``) or hex strings (``'#008000'``).\u001b[39;00m\n\u001b[0;32m   1633\u001b[0m \u001b[38;5;124;03m\"\"\"\u001b[39;00m\n\u001b[0;32m   1634\u001b[0m kwargs \u001b[38;5;241m=\u001b[39m cbook\u001b[38;5;241m.\u001b[39mnormalize_kwargs(kwargs, mlines\u001b[38;5;241m.\u001b[39mLine2D)\n\u001b[1;32m-> 1635\u001b[0m lines \u001b[38;5;241m=\u001b[39m [\u001b[38;5;241m*\u001b[39m\u001b[38;5;28mself\u001b[39m\u001b[38;5;241m.\u001b[39m_get_lines(\u001b[38;5;241m*\u001b[39margs, data\u001b[38;5;241m=\u001b[39mdata, \u001b[38;5;241m*\u001b[39m\u001b[38;5;241m*\u001b[39mkwargs)]\n\u001b[0;32m   1636\u001b[0m \u001b[38;5;28;01mfor\u001b[39;00m line \u001b[38;5;129;01min\u001b[39;00m lines:\n\u001b[0;32m   1637\u001b[0m     \u001b[38;5;28mself\u001b[39m\u001b[38;5;241m.\u001b[39madd_line(line)\n",
            "File \u001b[1;32m~\\anaconda3\\envs\\deepLeArning\\lib\\site-packages\\matplotlib\\axes\\_base.py:312\u001b[0m, in \u001b[0;36m_process_plot_var_args.__call__\u001b[1;34m(self, data, *args, **kwargs)\u001b[0m\n\u001b[0;32m    310\u001b[0m     this \u001b[38;5;241m+\u001b[39m\u001b[38;5;241m=\u001b[39m args[\u001b[38;5;241m0\u001b[39m],\n\u001b[0;32m    311\u001b[0m     args \u001b[38;5;241m=\u001b[39m args[\u001b[38;5;241m1\u001b[39m:]\n\u001b[1;32m--> 312\u001b[0m \u001b[38;5;28;01myield from\u001b[39;00m \u001b[38;5;28;43mself\u001b[39;49m\u001b[38;5;241;43m.\u001b[39;49m\u001b[43m_plot_args\u001b[49m\u001b[43m(\u001b[49m\u001b[43mthis\u001b[49m\u001b[43m,\u001b[49m\u001b[43m \u001b[49m\u001b[43mkwargs\u001b[49m\u001b[43m)\u001b[49m\n",
            "File \u001b[1;32m~\\anaconda3\\envs\\deepLeArning\\lib\\site-packages\\matplotlib\\axes\\_base.py:490\u001b[0m, in \u001b[0;36m_process_plot_var_args._plot_args\u001b[1;34m(self, tup, kwargs, return_kwargs)\u001b[0m\n\u001b[0;32m    488\u001b[0m     y \u001b[38;5;241m=\u001b[39m _check_1d(xy[\u001b[38;5;241m1\u001b[39m])\n\u001b[0;32m    489\u001b[0m \u001b[38;5;28;01melse\u001b[39;00m:\n\u001b[1;32m--> 490\u001b[0m     x, y \u001b[38;5;241m=\u001b[39m \u001b[43mindex_of\u001b[49m\u001b[43m(\u001b[49m\u001b[43mxy\u001b[49m\u001b[43m[\u001b[49m\u001b[38;5;241;43m-\u001b[39;49m\u001b[38;5;241;43m1\u001b[39;49m\u001b[43m]\u001b[49m\u001b[43m)\u001b[49m\n\u001b[0;32m    492\u001b[0m \u001b[38;5;28;01mif\u001b[39;00m \u001b[38;5;28mself\u001b[39m\u001b[38;5;241m.\u001b[39maxes\u001b[38;5;241m.\u001b[39mxaxis \u001b[38;5;129;01mis\u001b[39;00m \u001b[38;5;129;01mnot\u001b[39;00m \u001b[38;5;28;01mNone\u001b[39;00m:\n\u001b[0;32m    493\u001b[0m     \u001b[38;5;28mself\u001b[39m\u001b[38;5;241m.\u001b[39maxes\u001b[38;5;241m.\u001b[39mxaxis\u001b[38;5;241m.\u001b[39mupdate_units(x)\n",
            "File \u001b[1;32m~\\anaconda3\\envs\\deepLeArning\\lib\\site-packages\\matplotlib\\cbook\\__init__.py:1619\u001b[0m, in \u001b[0;36mindex_of\u001b[1;34m(y)\u001b[0m\n\u001b[0;32m   1617\u001b[0m     \u001b[38;5;28;01mpass\u001b[39;00m\n\u001b[0;32m   1618\u001b[0m \u001b[38;5;28;01mtry\u001b[39;00m:\n\u001b[1;32m-> 1619\u001b[0m     y \u001b[38;5;241m=\u001b[39m \u001b[43m_check_1d\u001b[49m\u001b[43m(\u001b[49m\u001b[43my\u001b[49m\u001b[43m)\u001b[49m\n\u001b[0;32m   1620\u001b[0m \u001b[38;5;28;01mexcept\u001b[39;00m (np\u001b[38;5;241m.\u001b[39mVisibleDeprecationWarning, \u001b[38;5;167;01mValueError\u001b[39;00m):\n\u001b[0;32m   1621\u001b[0m     \u001b[38;5;66;03m# NumPy 1.19 will warn on ragged input, and we can't actually use it.\u001b[39;00m\n\u001b[0;32m   1622\u001b[0m     \u001b[38;5;28;01mpass\u001b[39;00m\n",
            "File \u001b[1;32m~\\anaconda3\\envs\\deepLeArning\\lib\\site-packages\\matplotlib\\cbook\\__init__.py:1311\u001b[0m, in \u001b[0;36m_check_1d\u001b[1;34m(x)\u001b[0m\n\u001b[0;32m   1305\u001b[0m \u001b[38;5;66;03m# plot requires `shape` and `ndim`.  If passed an\u001b[39;00m\n\u001b[0;32m   1306\u001b[0m \u001b[38;5;66;03m# object that doesn't provide them, then force to numpy array.\u001b[39;00m\n\u001b[0;32m   1307\u001b[0m \u001b[38;5;66;03m# Note this will strip unit information.\u001b[39;00m\n\u001b[0;32m   1308\u001b[0m \u001b[38;5;28;01mif\u001b[39;00m (\u001b[38;5;129;01mnot\u001b[39;00m \u001b[38;5;28mhasattr\u001b[39m(x, \u001b[38;5;124m'\u001b[39m\u001b[38;5;124mshape\u001b[39m\u001b[38;5;124m'\u001b[39m) \u001b[38;5;129;01mor\u001b[39;00m\n\u001b[0;32m   1309\u001b[0m         \u001b[38;5;129;01mnot\u001b[39;00m \u001b[38;5;28mhasattr\u001b[39m(x, \u001b[38;5;124m'\u001b[39m\u001b[38;5;124mndim\u001b[39m\u001b[38;5;124m'\u001b[39m) \u001b[38;5;129;01mor\u001b[39;00m\n\u001b[0;32m   1310\u001b[0m         \u001b[38;5;28mlen\u001b[39m(x\u001b[38;5;241m.\u001b[39mshape) \u001b[38;5;241m<\u001b[39m \u001b[38;5;241m1\u001b[39m):\n\u001b[1;32m-> 1311\u001b[0m     \u001b[38;5;28;01mreturn\u001b[39;00m \u001b[43mnp\u001b[49m\u001b[38;5;241;43m.\u001b[39;49m\u001b[43matleast_1d\u001b[49m\u001b[43m(\u001b[49m\u001b[43mx\u001b[49m\u001b[43m)\u001b[49m\n\u001b[0;32m   1312\u001b[0m \u001b[38;5;28;01melse\u001b[39;00m:\n\u001b[0;32m   1313\u001b[0m     \u001b[38;5;28;01mreturn\u001b[39;00m x\n",
            "File \u001b[1;32m<__array_function__ internals>:180\u001b[0m, in \u001b[0;36matleast_1d\u001b[1;34m(*args, **kwargs)\u001b[0m\n",
            "File \u001b[1;32m~\\anaconda3\\envs\\deepLeArning\\lib\\site-packages\\numpy\\core\\shape_base.py:65\u001b[0m, in \u001b[0;36matleast_1d\u001b[1;34m(*arys)\u001b[0m\n\u001b[0;32m     63\u001b[0m res \u001b[38;5;241m=\u001b[39m []\n\u001b[0;32m     64\u001b[0m \u001b[38;5;28;01mfor\u001b[39;00m ary \u001b[38;5;129;01min\u001b[39;00m arys:\n\u001b[1;32m---> 65\u001b[0m     ary \u001b[38;5;241m=\u001b[39m \u001b[43masanyarray\u001b[49m\u001b[43m(\u001b[49m\u001b[43mary\u001b[49m\u001b[43m)\u001b[49m\n\u001b[0;32m     66\u001b[0m     \u001b[38;5;28;01mif\u001b[39;00m ary\u001b[38;5;241m.\u001b[39mndim \u001b[38;5;241m==\u001b[39m \u001b[38;5;241m0\u001b[39m:\n\u001b[0;32m     67\u001b[0m         result \u001b[38;5;241m=\u001b[39m ary\u001b[38;5;241m.\u001b[39mreshape(\u001b[38;5;241m1\u001b[39m)\n",
            "File \u001b[1;32m~\\anaconda3\\envs\\deepLeArning\\lib\\site-packages\\torch\\_tensor.py:956\u001b[0m, in \u001b[0;36mTensor.__array__\u001b[1;34m(self, dtype)\u001b[0m\n\u001b[0;32m    954\u001b[0m     \u001b[38;5;28;01mreturn\u001b[39;00m handle_torch_function(Tensor\u001b[38;5;241m.\u001b[39m__array__, (\u001b[38;5;28mself\u001b[39m,), \u001b[38;5;28mself\u001b[39m, dtype\u001b[38;5;241m=\u001b[39mdtype)\n\u001b[0;32m    955\u001b[0m \u001b[38;5;28;01mif\u001b[39;00m dtype \u001b[38;5;129;01mis\u001b[39;00m \u001b[38;5;28;01mNone\u001b[39;00m:\n\u001b[1;32m--> 956\u001b[0m     \u001b[38;5;28;01mreturn\u001b[39;00m \u001b[38;5;28;43mself\u001b[39;49m\u001b[38;5;241;43m.\u001b[39;49m\u001b[43mnumpy\u001b[49m\u001b[43m(\u001b[49m\u001b[43m)\u001b[49m\n\u001b[0;32m    957\u001b[0m \u001b[38;5;28;01melse\u001b[39;00m:\n\u001b[0;32m    958\u001b[0m     \u001b[38;5;28;01mreturn\u001b[39;00m \u001b[38;5;28mself\u001b[39m\u001b[38;5;241m.\u001b[39mnumpy()\u001b[38;5;241m.\u001b[39mastype(dtype, copy\u001b[38;5;241m=\u001b[39m\u001b[38;5;28;01mFalse\u001b[39;00m)\n",
            "\u001b[1;31mTypeError\u001b[0m: can't convert cuda:0 device type tensor to numpy. Use Tensor.cpu() to copy the tensor to host memory first."
          ]
        },
        {
          "data": {
            "image/png": "[encoded data removed]",
            "text/plain": [
              "<Figure size 640x480 with 1 Axes>"
            ]
          },
          "metadata": {},
          "output_type": "display_data"
        }
      ],
      "source": [
        "plt.plot(bce_loss , label = \"BCE\")\n",
        "plt.plot(reg_loss , label = \"Reg\")\n",
        "plt.plot(clf_loss , label = \"CLF\")\n",
        "plt.legend()\n",
        "plt.show()"
      ]
    },
    {
      "cell_type": "code",
      "execution_count": null,
      "id": "6ede7124-8a4c-47b0-92b6-8ff662e39f76",
      "metadata": {
        "id": "6ede7124-8a4c-47b0-92b6-8ff662e39f76",
        "outputId": "2956d815-35f8-4061-a226-67c8d9e60695"
      },
      "outputs": [
        {
          "name": "stdout",
          "output_type": "stream",
          "text": [
            "Number of cells in row and col = 8\n",
            "Cell length = 32\n",
            "Number of total yolo cells = 64\n"
          ]
        }
      ],
      "source": [
        "dataloader_test = myDataset(\"val\",img_annotations_val,cell_length,class_map,anchor_boxes)"
      ]
    },
    {
      "cell_type": "code",
      "execution_count": null,
      "id": "834f9d5b-0fc6-416f-9680-cafa3992283f",
      "metadata": {
        "id": "834f9d5b-0fc6-416f-9680-cafa3992283f",
        "outputId": "2d9ff0af-bb74-4def-95a2-cf908e267e4c"
      },
      "outputs": [
        {
          "ename": "IndentationError",
          "evalue": "expected an indented block (719137962.py, line 3)",
          "output_type": "error",
          "traceback": [
            "\u001b[1;36m  Cell \u001b[1;32mIn[31], line 3\u001b[1;36m\u001b[0m\n\u001b[1;33m    \u001b[0m\n\u001b[1;37m    ^\u001b[0m\n\u001b[1;31mIndentationError\u001b[0m\u001b[1;31m:\u001b[0m expected an indented block\n"
          ]
        }
      ],
      "source": [
        "def get_object_info_from_net_output(yolo_tensor):\n",
        "    #first get the cell x, y then the anchor box index"
      ]
    },
    {
      "cell_type": "code",
      "execution_count": null,
      "id": "1e563b21-f201-4df1-b0fb-cbb69d095335",
      "metadata": {
        "tags": [],
        "id": "1e563b21-f201-4df1-b0fb-cbb69d095335",
        "outputId": "b45af9ca-7cdc-4817-94c6-46372d1f2dd2"
      },
      "outputs": [
        {
          "name": "stdout",
          "output_type": "stream",
          "text": [
            "TRUE VALUES\n",
            "2 4 1\n",
            "tensor([1., 0., 0.])\n",
            "==============================================================\n",
            "torch.Size([1, 5632])\n",
            "(704,)\n",
            "[4.2527285 6.0260696 6.080739  6.4880056 6.5723286]\n",
            "(array([3], dtype=int64), array([5], dtype=int64), array([8], dtype=int64))\n",
            "yolo vector for that index = \n",
            "[[ 3.66797    -0.09542598  0.08949031  1.8686155   1.1525036  -1.1574074\n",
            "   0.65812373  0.23056608]]\n",
            "(array([3], dtype=int64), array([4], dtype=int64), array([10], dtype=int64))\n",
            "yolo vector for that index = \n",
            "[[ 3.6760406  -0.11252004  0.02247219  1.295671    1.0682604   0.35468647\n",
            "  -0.47556725 -0.04892188]]\n",
            "(array([4], dtype=int64), array([4], dtype=int64), array([10], dtype=int64))\n",
            "yolo vector for that index = \n",
            "[[ 3.6931345   0.15114518  0.07162818  1.3453138   1.0818002   0.24841845\n",
            "  -0.37672773  0.00451373]]\n",
            "(array([5], dtype=int64), array([3], dtype=int64), array([8], dtype=int64))\n",
            "yolo vector for that index = \n",
            "[[ 3.69369     0.04786545 -0.13827612  1.4491788   1.4884096  -0.16721869\n",
            "  -0.5136654   0.55862975]]\n",
            "(array([2], dtype=int64), array([4], dtype=int64), array([8], dtype=int64))\n",
            "yolo vector for that index = \n",
            "[[ 4.1349363  -0.02882238  0.03153399  1.3905385   1.3959361  -0.5343525\n",
            "  -0.6175062   0.9621463 ]]\n",
            "(array([5], dtype=int64), array([4], dtype=int64), array([8], dtype=int64))\n",
            "yolo vector for that index = \n",
            "[[ 4.2527285   0.06612466  0.0826635   1.3917387   1.3763987  -0.2414936\n",
            "  -0.79463476  0.8400585 ]]\n",
            "(array([4], dtype=int64), array([3], dtype=int64), array([8], dtype=int64))\n",
            "yolo vector for that index = \n",
            "[[ 6.0260696   0.18560171 -0.20850208  2.0507672   1.5574458   0.07584778\n",
            "  -0.20564717  0.17045772]]\n",
            "(array([3], dtype=int64), array([3], dtype=int64), array([8], dtype=int64))\n",
            "yolo vector for that index = \n",
            "[[ 6.080739   -0.22190483 -0.2209623   2.0197551   1.5463489   0.20147622\n",
            "  -0.22866344  0.12780578]]\n",
            "(array([4], dtype=int64), array([4], dtype=int64), array([8], dtype=int64))\n",
            "yolo vector for that index = \n",
            "[[ 6.48800564e+00  1.89840540e-01  1.24736555e-01  2.00842142e+00\n",
            "   1.48104048e+00 -1.54347748e-01  1.47515193e-01 -1.31564483e-03]]\n",
            "(array([3], dtype=int64), array([4], dtype=int64), array([8], dtype=int64))\n",
            "yolo vector for that index = \n",
            "[[ 6.5723286  -0.2047402   0.10467272  1.9909028   1.4625245  -0.04739971\n",
            "   0.03071759 -0.0473448 ]]\n"
          ]
        }
      ],
      "source": [
        "loader_test = torch.utils.data.DataLoader(dataloader_test, batch_size=1, shuffle=True)\n",
        "for image , yolo_tensor in loader_test:\n",
        "    #print(yolo_tensor.shape)\n",
        "    #yolo_tensor[0][0][0][0] = torch.tensor([1,2,3,4,5,6,7,8])\n",
        "    index_img = np.where(yolo_tensor[0][:,:,:,0] == 1)\n",
        "    object_info = []\n",
        "    print(\"TRUE VALUES\")\n",
        "    for i in range(len(index_img[0])):\n",
        "        object_info.append([index_img[0][i] , index_img[1][i] , index_img[2][i]])\n",
        "        print(index_img[0][i] , index_img[1][i] , index_img[2][i])\n",
        "        print(yolo_tensor[0 ,index_img[0][i] , index_img[1][i] , index_img[2][i],5:])\n",
        "    \n",
        "    print(\"==============================================================\")\n",
        "    \n",
        "    image = image.to(device)\n",
        "    output_tensor = net1(image)\n",
        "    print(output_tensor.shape)\n",
        "    output_tensor = torch.reshape(output_tensor[0] , [8,8,11,8])\n",
        "    #output_tensor[:,:,:,5:] = nn.Softmax(output_tensor[:,:,:,5:])\n",
        "    output_tensor = output_tensor.cpu()\n",
        "    output_tensor = output_tensor.detach().numpy()\n",
        "    max_values = np.sort(output_tensor[:,:,:,0].flatten())\n",
        "    print(max_values.shape)\n",
        "    print(max_values[-5:])\n",
        "    for val in max_values[-10:]:\n",
        "        index_max_prob = np.where(output_tensor[:,:,:,0] == val)\n",
        "        print(index_max_prob)\n",
        "        print(\"yolo vector for that index = \")\n",
        "        print(output_tensor[index_max_prob[0],index_max_prob[1],index_max_prob[2],:])\n",
        "        \n",
        "    #print(output_tensor[0,3,:,:])\n",
        "    #print(output_tensor[cell[0][0] , cell[1][0] , anchor[0]])\n",
        "    #print(output_tensor.shape)\n",
        "    break"
      ]
    },
    {
      "cell_type": "code",
      "execution_count": null,
      "id": "17c22967-5f8a-4954-8860-b79c382dc1a4",
      "metadata": {
        "id": "17c22967-5f8a-4954-8860-b79c382dc1a4"
      },
      "outputs": [],
      "source": []
    },
    {
      "cell_type": "code",
      "execution_count": null,
      "id": "363552d4-e2ef-4b25-a5db-7ece98b894a4",
      "metadata": {
        "id": "363552d4-e2ef-4b25-a5db-7ece98b894a4"
      },
      "outputs": [],
      "source": [
        "num_correct = 0\n",
        "total = 0\n",
        "model.eval()\n",
        "preds_cf = []\n",
        "labels_cf = []\n",
        "all_iou = 0.0\n",
        "with torch.no_grad():\n",
        "    for data, labels, bbox in test_loader:\n",
        "        data = data.to(device=device)\n",
        "        labels = labels.to(device=device)\n",
        "        bbox = bbox.to(device=device)\n",
        "\n",
        "        predictions, bbox_pred= model(data)\n",
        "\n",
        "        predictions = [[1 if max(i)==j else 0 for j in i ] for i in predictions]\n",
        "        pred_cf = class_map_rev[predictions[0].index(max(predictions[0]))]\n",
        "        #print(pred_cf)\n",
        "        preds_cf.append(pred_cf)\n",
        "        #predictions = predictions.to(device=device)\n",
        "\n",
        "        labels = labels.tolist()\n",
        "        label_cf = class_map_rev[labels[0].index(max(labels[0]))]\n",
        "        #print(f\"label = {label_cf}\")\n",
        "        labels_cf.append(label_cf)\n",
        "\n",
        "        #print(labels)\n",
        "        #print(predictions == labels)\n",
        "        #num_correct += (predictions == labels).sum()\n",
        "        if predictions == labels:\n",
        "            num_correct += 1\n",
        "        #total += labels.size(0)\n",
        "        total += 1\n",
        "        #if total==1000:\n",
        "        #    print(num_correct/total)\n",
        "        #print(bbox_pred.tolist()[0])\n",
        "        #print(bbox)\n",
        "\n",
        "        #iou = calculate_iou(bbox[0],bbox_pred[0])\n",
        "        iou = torchvision.ops.complete_box_iou(bbox,bbox_pred)\n",
        "\n",
        "        all_iou = all_iou+iou\n",
        "\n",
        "    #total = len(loader_test.dataset)\n",
        "    accuracy = float(num_correct)/float(total)*100\n",
        "    iou_accuracy = all_iou/float(total)\n",
        "    print(f\"Test Accuracy of the classification model: {accuracy:.2f} | regression model: {iou_accuracy}\")\n",
        "    return accuracy, iou_accuracy, labels_cf , preds_cf"
      ]
    }
  ],
  "metadata": {
    "kernelspec": {
      "display_name": "deepLearning",
      "language": "python",
      "name": "deeplearning"
    },
    "language_info": {
      "codemirror_mode": {
        "name": "ipython",
        "version": 3
      },
      "file_extension": ".py",
      "mimetype": "text/x-python",
      "name": "python",
      "nbconvert_exporter": "python",
      "pygments_lexer": "ipython3",
      "version": "3.9.16"
    },
    "toc-autonumbering": true,
    "colab": {
      "provenance": []
    }
  },
  "nbformat": 4,
  "nbformat_minor": 5
}